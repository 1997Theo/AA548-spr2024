{
  "cells": [
    {
      "cell_type": "markdown",
      "metadata": {
        "id": "view-in-github",
        "colab_type": "text"
      },
      "source": [
        "<a href=\"https://colab.research.google.com/github/karenl7/AA548-spr2024/blob/dev/homework/hw1_starter_code.ipynb\" target=\"_parent\"><img src=\"https://colab.research.google.com/assets/colab-badge.svg\" alt=\"Open In Colab\"/></a>"
      ]
    },
    {
      "cell_type": "code",
      "execution_count": null,
      "metadata": {
        "id": "quEK74PYX4QY"
      },
      "outputs": [],
      "source": [
        "import jax\n",
        "import jax.numpy as jnp\n",
        "import matplotlib.pyplot as plt"
      ]
    },
    {
      "cell_type": "code",
      "execution_count": null,
      "metadata": {
        "id": "QheMKtORYARn"
      },
      "outputs": [],
      "source": [
        "class DynUnicycle:\n",
        "\n",
        "    def state_derivative(self, state, control):\n",
        "        '''\n",
        "        Computes x_dot where x_dot = f(x, u)\n",
        "        Inputs:\n",
        "            state     : A jax.numpy array of size (n,)\n",
        "            control   : A jax.numpy array of size (m,)\n",
        "\n",
        "        Output:\n",
        "            state_derivative : A jax.numpy array of size (n,)\n",
        "        '''\n",
        "        pass\n",
        "\n",
        "    def euler_step(self, state, control, dt):\n",
        "        '''\n",
        "        Computes x(k+1) using euler integration\n",
        "        Inputs:\n",
        "            state     : A jax.numpy array of size (n,)\n",
        "            control   : A jax.numpy array of size (m,)\n",
        "            dt        : time step, a float\n",
        "\n",
        "        Output:\n",
        "            next_state : A jax.numpy array of size (n,)\n",
        "        '''\n",
        "        pass\n",
        "\n",
        "    def analytic_step(self, state, control, dt):\n",
        "        '''\n",
        "        Computes x(k+1) using analytic expression from integration.\n",
        "        Assumes zero-order hold\n",
        "        Inputs:\n",
        "            state     : A jax.numpy array of size (n,)\n",
        "            control   : A jax.numpy array of size (m,)\n",
        "            dt        : time step, a float\n",
        "\n",
        "        Output:\n",
        "            next_state : A jax.numpy array of size (n,)\n",
        "        '''\n",
        "        pass\n",
        "\n",
        "    def RK4_step(self, state, control, dt):\n",
        "        '''\n",
        "        Computes x(k+1) using Runge-Kutta integration.\n",
        "        Assumes zero-order hold\n",
        "        Inputs:\n",
        "            state     : A jax.numpy array of size (n,)\n",
        "            control   : A jax.numpy array of size (m,)\n",
        "            dt        : time step, a float\n",
        "\n",
        "        Output:\n",
        "            next_state : A jax.numpy array of size (n,)\n",
        "        '''\n",
        "        pass\n",
        "\n",
        "    def linearize_continuous_time_analytic(self, state, control):\n",
        "        '''\n",
        "        Linearizes the continuous time dynamics using analytic expression\n",
        "        Inputs:\n",
        "            state     : A jax.numpy array of size (n,)\n",
        "            control   : A jax.numpy array of size (m,)\n",
        "\n",
        "        Outputs:\n",
        "            A : A jax.numpy array of size (n,n)\n",
        "            B : A jax.numpy array of size (n,m)\n",
        "            C : A jax.numpy array of size (n,1)\n",
        "        '''\n",
        "        pass\n",
        "\n",
        "def discrete_time_simulate(discrete_time_dyn, initial_state, control_sequence):\n",
        "    '''\n",
        "    Propgates states through discrete_time_dyn using control_sequence, starting at initial_state.\n",
        "    Inputs:\n",
        "        discrete_time_dyn : A function that takes in a state and control, and returns the next state\n",
        "        initial_state     : A jax.numpy array of size (n,)\n",
        "        control_sequence  : A sequence of control inputs. A jax.numpy array of size (T,m) where T is the control inputs\n",
        "\n",
        "    Output:\n",
        "        A sequence of states from executing the control sequence. A jax.numpy array of size (T+1, n).\n",
        "    '''\n",
        "    pass\n",
        "\n",
        "def linearize_autodiff(function_name, state, control):\n",
        "    '''\n",
        "    Linearizes the any dynamics using jax autodiff.\n",
        "    Inputs:\n",
        "        function_name: name of function to be linearized. Takes state and control as inputs.\n",
        "        state     : A jax.numpy array of size (n,)\n",
        "        control   : A jax.numpy array of size (m,)\n",
        "\n",
        "    Outputs:\n",
        "        A : A jax.numpy array of size (n,n)\n",
        "        B : A jax.numpy array of size (n,m)\n",
        "        C : A jax.numpy array of size (n,1)\n",
        "    '''\n",
        "    pass\n"
      ]
    },
    {
      "cell_type": "markdown",
      "metadata": {
        "id": "8H2NpERchuIl"
      },
      "source": [
        "# Problem 1"
      ]
    },
    {
      "cell_type": "markdown",
      "metadata": {
        "id": "HcLqGSzRhxam"
      },
      "source": [
        "The plotting code is provided below. But you need to fill out some functions first in order to run it.\n",
        "- `state_derivative`\n",
        "- `euler_step`\n",
        "- `analytic_step`\n",
        "- `RK4_step`\n",
        "- `discrete_time_simulate`\n"
      ]
    },
    {
      "cell_type": "code",
      "execution_count": null,
      "metadata": {
        "id": "mfTvuL3RhvXl"
      },
      "outputs": [],
      "source": [
        "# generating initial state and control sequence\n",
        "initial_state = jnp.array([0, 0, jnp.pi/4, 2.])  # initial state, size [4,] array\n",
        "def generate_control_sequence(dt, horizon=5):\n",
        "    N = round(horizon / dt)\n",
        "    w_sequence = jnp.sin(jnp.linspace(0, jnp.pi, N))  # w varies sinusoidally over time\n",
        "    return jnp.stack([w_sequence, jnp.zeros(N)], 1)  # a is zero (constant speed), size [T, 2] array"
      ]
    },
    {
      "cell_type": "code",
      "execution_count": null,
      "metadata": {
        "id": "PxLspSyDiGNg"
      },
      "outputs": [],
      "source": [
        "## Feel free to edit this code to tailor it to your implementation\n",
        "unicycle = DynUnicycle()\n",
        "\n",
        "plt.figure(figsize=(15,4))\n",
        "\n",
        "dt_array = [0.01, 0.1, 0.5]\n",
        "\n",
        "for (i,dt) in enumerate(dt_array):\n",
        "\n",
        "    controls = generate_control_sequence(dt, 5)\n",
        "\n",
        "    plt.subplot(1,3,i+1)\n",
        "    traj = discrete_time_simulate(jax.jit(lambda s,c: unicycle.analytic_step(s,c,dt)), initial_state, controls)\n",
        "    plt.plot(traj[:,0], traj[:,1], label=\"Analytic hold\")\n",
        "    plt.scatter(traj[:,0], traj[:,1], s=2)\n",
        "\n",
        "\n",
        "    traj = discrete_time_simulate(jax.jit(lambda s,c: unicycle.euler_step(s,c,dt)), initial_state, controls)\n",
        "    plt.plot(traj[:,0], traj[:,1], label=\"Euler\")\n",
        "    plt.scatter(traj[:,0], traj[:,1], s=2)\n",
        "\n",
        "    traj = discrete_time_simulate(jax.jit(lambda s,c: unicycle.RK4_step(s,c,dt)), initial_state, controls)\n",
        "    plt.plot(traj[:,0], traj[:,1], label=\"RK4\")\n",
        "    plt.scatter(traj[:,0], traj[:,1], s=2)\n",
        "\n",
        "    plt.grid()\n",
        "    plt.legend()\n",
        "\n",
        "    plt.title(\"dt=%.3f\"%dt)\n",
        "\n",
        "# plt.savefig(...) # you can save fig"
      ]
    },
    {
      "cell_type": "markdown",
      "metadata": {
        "id": "qQKPeSb5iPCg"
      },
      "source": [
        "# Problem 2"
      ]
    },
    {
      "cell_type": "code",
      "execution_count": null,
      "metadata": {
        "id": "hv2_C282iIyH"
      },
      "outputs": [],
      "source": [
        "x0 = jnp.array([0., 0., jnp.pi/4, 2.])\n",
        "u0 = jnp.array([0.1, 1.])"
      ]
    },
    {
      "cell_type": "markdown",
      "metadata": {
        "id": "9Vypt6IeiR1Z"
      },
      "source": [
        "### 2(c)  \n",
        "\n",
        "You need to fill in code for `linearize` function.\n",
        "And also `linearize_continuous_time_analytic` to test your analytic solution.\n",
        "\n",
        "Some code to print out values from linearizing the continuous time dynamics about a point"
      ]
    },
    {
      "cell_type": "code",
      "execution_count": null,
      "metadata": {
        "id": "y7BF-13AiQql"
      },
      "outputs": [],
      "source": [
        "## Feel free to edit this code to tailor it to your implementation\n",
        "\n",
        "decimal_places = 2\n",
        "\n",
        "A, B, C = unicycle.linearize_continuous_time_analytic(x0, u0)\n",
        "print(\"Linearization from analytic expression\")\n",
        "print(\"A\\n\", round(A, decimal_places))\n",
        "print(\"B\\n\", round(B, decimal_places))\n",
        "print(\"C\\n\", round(C, decimal_places))\n",
        "\n",
        "print(\"\\n\\n\")\n",
        "\n",
        "A, B, C = linearize_autodiff(unicycle.state_derivative, x0, u0)\n",
        "print(\"Linearization using autodiff on continuous time dynamics\")\n",
        "print(\"A\\n\", round(A, decimal_places))\n",
        "print(\"B\\n\", round(B, decimal_places))\n",
        "print(\"C\\n\", round(C, decimal_places))\n"
      ]
    },
    {
      "cell_type": "markdown",
      "metadata": {
        "id": "nYRz-OpHiWW7"
      },
      "source": [
        "### 2(d)\n",
        "\n",
        "Some code to print out values from linearizing the zero-order hold dynamics about a point"
      ]
    },
    {
      "cell_type": "code",
      "execution_count": null,
      "metadata": {
        "id": "qO17jAwhiTDd"
      },
      "outputs": [],
      "source": [
        "## Feel free to edit this code to tailor it to your implementation\n",
        "\n",
        "decimal_places = 2\n",
        "\n",
        "A, B, C = linearize_autodiff(lambda s,c: unicycle.analytic_step(s, c, dt), x0, u0)\n",
        "print(\"Linearization using autodiff on analytic step \")\n",
        "print(\"A\\n\", round(A, decimal_places))\n",
        "print(\"B\\n\", round(B, decimal_places))\n",
        "print(\"C\\n\", round(C, decimal_places))\n",
        "\n",
        "\n",
        "\n",
        "A, B, C = linearize_autodiff(lambda s,c: unicycle.RK4_step(s, c, dt), x0, u0)\n",
        "print(\"Linearization using autodiff on RK4 step \")\n",
        "print(\"A\\n\", round(A, decimal_places))\n",
        "print(\"B\\n\", round(B, decimal_places))\n",
        "print(\"C\\n\", round(C, decimal_places))\n"
      ]
    },
    {
      "cell_type": "markdown",
      "metadata": {
        "id": "teo7D3KIiZlo"
      },
      "source": [
        "## Problem 3"
      ]
    },
    {
      "cell_type": "code",
      "execution_count": null,
      "metadata": {
        "id": "1xelJP4KiXkE"
      },
      "outputs": [],
      "source": [
        "def cart_pole(state, control):\n",
        "    '''Cart-pole continuous-time dynamics'''\n",
        "    pass\n",
        "\n",
        "def cart_pole_linearized(state, control, state_eq, control_eq):\n",
        "    '''Linearize cart-pole continuous-time dynamics about equilibrium point'''\n",
        "    pass\n",
        "\n",
        "def linearization_error(state, control, state_eq, control_eq):\n",
        "    '''Computes linearization error'''\n",
        "    pass\n"
      ]
    },
    {
      "cell_type": "code",
      "execution_count": null,
      "metadata": {
        "id": "DHJzr5yAibrZ"
      },
      "outputs": [],
      "source": [
        "## Feel free to edit this code to tailor it to your implementation\n",
        "\n",
        "# x, theta, xdot, thetadot\n",
        "state_eq = jnp.array([0., jnp.pi, 0.0, 0.0])\n",
        "control_eq = jnp.zeros(1)\n",
        "states = jnp.array([[0,0.99*jnp.pi,0,0],\n",
        "                    [0,0.9*jnp.pi,0,0],\n",
        "                    [0,0.85*jnp.pi,0,0],\n",
        "                    [0,0.5*jnp.pi,0,0],\n",
        "                    [0,0,0,0],\n",
        "                    [1,jnp.pi,0,0]])\n",
        "controls = jnp.array([[-0.],\n",
        "                      [-10.],\n",
        "                      [0.],\n",
        "                      [0.],\n",
        "                      [0.],\n",
        "                      [10.]])\n",
        "\n",
        "errors = jax.vmap(linearization_error, in_axes=[0, 0, None, None])(states, controls, state_eq, control_eq)\n"
      ]
    },
    {
      "cell_type": "code",
      "execution_count": null,
      "metadata": {
        "id": "Wrkw58IIicc2"
      },
      "outputs": [],
      "source": [
        "## Feel free to edit this code to tailor it to your implementation\n",
        "\n",
        "for i, e in enumerate(errors):\n",
        "    print(f\"State = {jnp.around(states[i], decimals=3)}^T\")\n",
        "    print(f\"Input = {jnp.around(controls[i], decimals=3)}\")\n",
        "    print(\"Linearization error = %.3f\"%e)\n",
        "    print(\"Norm of f(x,u) = %.3f\\n\"%jnp.linalg.norm(cart_pole(states[i], controls[i])))"
      ]
    },
    {
      "cell_type": "code",
      "execution_count": null,
      "metadata": {
        "id": "J3sel7s4idl7"
      },
      "outputs": [],
      "source": []
    }
  ],
  "metadata": {
    "colab": {
      "provenance": [],
      "include_colab_link": true
    },
    "kernelspec": {
      "display_name": "Python 3",
      "name": "python3"
    },
    "language_info": {
      "name": "python"
    }
  },
  "nbformat": 4,
  "nbformat_minor": 0
}