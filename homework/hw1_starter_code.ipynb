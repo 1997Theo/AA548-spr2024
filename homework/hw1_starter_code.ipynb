{
  "nbformat": 4,
  "nbformat_minor": 0,
  "metadata": {
    "colab": {
      "provenance": [],
      "authorship_tag": "ABX9TyOJXMkwlq/uxrWVbl49Lhio",
      "include_colab_link": true
    },
    "kernelspec": {
      "name": "python3",
      "display_name": "Python 3"
    },
    "language_info": {
      "name": "python"
    }
  },
  "cells": [
    {
      "cell_type": "markdown",
      "metadata": {
        "id": "view-in-github",
        "colab_type": "text"
      },
      "source": [
        "<a href=\"https://colab.research.google.com/github/karenl7/AA548-spr2024/blob/dev/homework/hw1_starter_code.ipynb\" target=\"_parent\"><img src=\"https://colab.research.google.com/assets/colab-badge.svg\" alt=\"Open In Colab\"/></a>"
      ]
    },
    {
      "cell_type": "code",
      "execution_count": null,
      "metadata": {
        "id": "quEK74PYX4QY"
      },
      "outputs": [],
      "source": [
        "import jax\n",
        "import jax.numpy as jnp\n",
        "import numpy as np\n",
        "import matplotlib.pyplot as plt"
      ]
    },
    {
      "cell_type": "code",
      "source": [
        "class DynUnicycle:\n",
        "\n",
        "    def state_derivative(self, state, control):\n",
        "        '''\n",
        "        Computes x_dot where x_dot = f(x, u)\n",
        "        '''\n",
        "        pass\n",
        "\n",
        "    def euler_step(self, state, control, dt):\n",
        "        pass\n",
        "\n",
        "    def analytic_step(self, state, control, dt):\n",
        "        pass\n",
        "\n",
        "    def RK4_step(self, state, control, dt):\n",
        "        pass\n",
        "\n",
        "    def linearize_continuous_time_analytic(self, state, control) -> tuple:\n",
        "        pass\n",
        "\n",
        "def discrete_time_simulate(discrete_time_dyn, initial_state, control_sequence):\n",
        "    pass\n",
        "\n",
        "def linearize(function_name, state, control):\n",
        "    '''function_name takes in only (state, control)'''\n",
        "    pass\n"
      ],
      "metadata": {
        "id": "QheMKtORYARn"
      },
      "execution_count": null,
      "outputs": []
    },
    {
      "cell_type": "markdown",
      "source": [
        "# Problem 1"
      ],
      "metadata": {
        "id": "8H2NpERchuIl"
      }
    },
    {
      "cell_type": "markdown",
      "source": [
        "The plotting code is provided below. But you need to fill out some functions first in order to run it.\n",
        "- `state_derivative`\n",
        "- `euler_step`\n",
        "- `analytic_step`\n",
        "- `RK4_step`\n",
        "- `discrete_time_simulate`\n"
      ],
      "metadata": {
        "id": "HcLqGSzRhxam"
      }
    },
    {
      "cell_type": "code",
      "source": [
        "# generating initial state and control sequence\n",
        "initial_state = jnp.array([0, 0, jnp.pi/4, 2.])  # initial state, size [4,] array\n",
        "def generate_control_sequence(dt, horizon=5):\n",
        "    N = round(horizon / dt)\n",
        "    w_sequence = jnp.sin(jnp.linspace(0, jnp.pi, N))  # w varies sinusoidally over time\n",
        "    return jnp.stack([w_sequence, jnp.zeros(N)], 1)  # a is zero (constant speed), size [T, 2] array"
      ],
      "metadata": {
        "id": "mfTvuL3RhvXl"
      },
      "execution_count": null,
      "outputs": []
    },
    {
      "cell_type": "code",
      "source": [
        "unicycle = DynUnicycle()\n",
        "\n",
        "plt.figure(figsize=(15,4))\n",
        "\n",
        "dt_array = [0.01, 0.1, 0.5]\n",
        "\n",
        "for (i,dt) in enumerate(dt_array):\n",
        "\n",
        "    controls = generate_control_sequence(dt, 5)\n",
        "\n",
        "    plt.subplot(1,3,i+1)\n",
        "    traj = discrete_time_simulate(jax.jit(lambda s,c: unicycle.analytic_step(s,c,dt)), initial_state, controls)\n",
        "    plt.plot(traj[:,0], traj[:,1], label=\"Analytic hold\")\n",
        "    plt.scatter(traj[:,0], traj[:,1], s=2)\n",
        "\n",
        "\n",
        "    traj = discrete_time_simulate(jax.jit(lambda s,c: unicycle.euler_step(s,c,dt)), initial_state, controls)\n",
        "    plt.plot(traj[:,0], traj[:,1], label=\"Euler\")\n",
        "    plt.scatter(traj[:,0], traj[:,1], s=2)\n",
        "\n",
        "    traj = discrete_time_simulate(jax.jit(lambda s,c: unicycle.RK4_step(s,c,dt)), initial_state, controls)\n",
        "    plt.plot(traj[:,0], traj[:,1], label=\"RK4\")\n",
        "    plt.scatter(traj[:,0], traj[:,1], s=2)\n",
        "\n",
        "    plt.grid()\n",
        "    plt.legend()\n",
        "\n",
        "    plt.title(\"dt=%.3f\"%dt)\n",
        "\n",
        "# plt.savefig(...) # you can save fig"
      ],
      "metadata": {
        "id": "PxLspSyDiGNg"
      },
      "execution_count": null,
      "outputs": []
    },
    {
      "cell_type": "markdown",
      "source": [
        "# Problem 2"
      ],
      "metadata": {
        "id": "qQKPeSb5iPCg"
      }
    },
    {
      "cell_type": "code",
      "source": [
        "x0 = jnp.array([0., 0., jnp.pi/4, 2.])\n",
        "u0 = jnp.array([0.1, 1.])\n"
      ],
      "metadata": {
        "id": "hv2_C282iIyH"
      },
      "execution_count": null,
      "outputs": []
    },
    {
      "cell_type": "markdown",
      "source": [
        "### 2(c)  \n",
        "\n",
        "You need to fill in code for `linearize` function.\n",
        "And also `linearize_continuous_time_analytic` to test your analytic solution.\n",
        "\n",
        "Some code to print out values from linearizing the continuous time dynamics about a point"
      ],
      "metadata": {
        "id": "9Vypt6IeiR1Z"
      }
    },
    {
      "cell_type": "code",
      "source": [
        "decimal_places = 2\n",
        "\n",
        "A, B, C = unicycle.linearize_continuous_time_analytic(x0, u0)\n",
        "print(\"Linearization from analytic expression\")\n",
        "print(\"A\\n\", round(A, decimal_places))\n",
        "print(\"B\\n\", round(B, decimal_places))\n",
        "print(\"C\\n\", round(C, decimal_places))\n",
        "\n",
        "print(\"\\n\\n\")\n",
        "\n",
        "A, B, C = linearize(unicycle.state_derivative, x0, u0)\n",
        "print(\"Linearization using autodiff \")\n",
        "print(\"A\\n\", round(A, decimal_places))\n",
        "print(\"B\\n\", round(B, decimal_places))\n",
        "print(\"C\\n\", round(C, decimal_places))\n"
      ],
      "metadata": {
        "id": "y7BF-13AiQql"
      },
      "execution_count": null,
      "outputs": []
    },
    {
      "cell_type": "markdown",
      "source": [
        "### 2(d)\n",
        "\n",
        "Some code to print out values from linearizing the zero-order hold dynamics about a point"
      ],
      "metadata": {
        "id": "nYRz-OpHiWW7"
      }
    },
    {
      "cell_type": "code",
      "source": [
        "decimal_places = 2\n",
        "\n",
        "A, B, C = linearize(lambda s,c: unicycle.analytic_step(s, c, dt), x0, u0)\n",
        "print(\"Linearization using autodiff \")\n",
        "print(\"A\\n\", round(A, decimal_places))\n",
        "print(\"B\\n\", round(B, decimal_places))\n",
        "print(\"C\\n\", round(C, decimal_places))\n"
      ],
      "metadata": {
        "id": "qO17jAwhiTDd"
      },
      "execution_count": null,
      "outputs": []
    },
    {
      "cell_type": "markdown",
      "source": [
        "## Problem 3"
      ],
      "metadata": {
        "id": "teo7D3KIiZlo"
      }
    },
    {
      "cell_type": "code",
      "source": [
        "def cart_pole(state, control):\n",
        "    pass\n",
        "\n",
        "def cart_pole_linearized(state, control, state_eq, control_eq):\n",
        "    pass\n",
        "\n",
        "def linearization_error(state, control, state_eq, control_eq):\n",
        "    pass\n"
      ],
      "metadata": {
        "id": "1xelJP4KiXkE"
      },
      "execution_count": null,
      "outputs": []
    },
    {
      "cell_type": "code",
      "source": [
        "# x, theta, xdot, thetadot\n",
        "state_eq = jnp.array([0., jnp.pi, 0.0, 0.0])\n",
        "control_eq = jnp.zeros(1)\n",
        "states = jnp.array([[0,0.99*jnp.pi,0,0],\n",
        "                    [0,0.9*jnp.pi,0,0],\n",
        "                    [0,0.85*jnp.pi,0,0],\n",
        "                    [0,0.5*jnp.pi,0,0],\n",
        "                    [0,0,0,0],\n",
        "                    [1,jnp.pi,0,0]])\n",
        "controls = jnp.array([[-0.],\n",
        "                      [-10.],\n",
        "                      [0.],\n",
        "                      [0.],\n",
        "                      [0.],\n",
        "                      [10.]])\n",
        "\n",
        "errors = jax.vmap(linearization_error, in_axes=[0, 0, None, None])(states, controls, state_eq, control_eq)\n"
      ],
      "metadata": {
        "id": "DHJzr5yAibrZ"
      },
      "execution_count": null,
      "outputs": []
    },
    {
      "cell_type": "code",
      "source": [
        "for i, e in enumerate(errors):\n",
        "    print(f\"State = {np.around(states[i], decimals=3)}^T\")\n",
        "    print(f\"Input = {np.around(controls[i], decimals=3)}\")\n",
        "    print(\"Linearization error = %.3f\"%e)\n",
        "    print(\"Norm of f(x,u) = %.3f\\n\"%np.linalg.norm(cart_pole(states[i], controls[i])))"
      ],
      "metadata": {
        "id": "Wrkw58IIicc2"
      },
      "execution_count": null,
      "outputs": []
    },
    {
      "cell_type": "code",
      "source": [],
      "metadata": {
        "id": "J3sel7s4idl7"
      },
      "execution_count": null,
      "outputs": []
    }
  ]
}