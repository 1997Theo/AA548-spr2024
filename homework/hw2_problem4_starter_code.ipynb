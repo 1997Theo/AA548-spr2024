{
  "cells": [
    {
      "cell_type": "markdown",
      "metadata": {
        "id": "view-in-github",
        "colab_type": "text"
      },
      "source": [
        "<a href=\"https://colab.research.google.com/github/UW-CTRL/AA548-spr2024/blob/main/homework/hw2_problem4_starter_code.ipynb\" target=\"_parent\"><img src=\"https://colab.research.google.com/assets/colab-badge.svg\" alt=\"Open In Colab\"/></a>"
      ]
    },
    {
      "cell_type": "code",
      "execution_count": null,
      "id": "8ad229e2",
      "metadata": {
        "id": "8ad229e2"
      },
      "outputs": [],
      "source": [
        "import numpy as np\n",
        "import matplotlib.pyplot as plt\n",
        "import cvxpy as cp\n"
      ]
    },
    {
      "cell_type": "code",
      "execution_count": null,
      "id": "6a66cd1b",
      "metadata": {
        "id": "6a66cd1b"
      },
      "outputs": [],
      "source": [
        "dt = 0.1\n",
        "goal_state = np.zeros(n)\n",
        "initial_state = np.array([-4, 0., 0., 2.])\n",
        "u_max = 2.\n",
        "\n",
        "### put your code here ###\n",
        "\n",
        "A_dynamics = ...\n",
        "\n",
        "B_dynamics = ...\n",
        "\n",
        "\n",
        "\n",
        "\n",
        "T = 50  # time steps\n",
        "n = 4   # state dimension\n",
        "m = 2   # control dimension\n",
        "\n",
        "us = ...   # optimization variable.\n",
        "xs = ...\n",
        "\n",
        "# quadratic cost matrices\n",
        "Q = ...\n",
        "R = ...\n",
        "\n",
        "objective = ...\n",
        "contraints = ...\n",
        "\n",
        "\n",
        "problem = cp.Problem(cp.Minimize(objective), constraints)\n",
        "problem.solve()\n",
        "\n",
        "states = ...  # [time_dim, n]\n",
        "controls = ...   # [time_dim, m]"
      ]
    },
    {
      "cell_type": "markdown",
      "source": [
        "## Plotting reults"
      ],
      "metadata": {
        "id": "usOaQ2Fh4ajA"
      },
      "id": "usOaQ2Fh4ajA"
    },
    {
      "cell_type": "code",
      "execution_count": null,
      "id": "a2f0bb06",
      "metadata": {
        "id": "a2f0bb06"
      },
      "outputs": [],
      "source": [
        "\n",
        "\n",
        "plt.figure(figsize=(15,5))\n",
        "plt.subplot(1,2,1)\n",
        "plt.plot(states[:,0], states[:,1])\n",
        "plt.quiver(states[:,0], states[:,1], states[:,2], states[:,3], scale=30, width=.003)  # show velocity vector\n",
        "plt.quiver(states[:-1,0], states[:-1,1], controls[:,0], controls[:,1], scale=30, width=.003, color='red')  # show acceleration vector\n",
        "plt.title(\"Optimal Trajectory with velocity and acceleration vector\")\n",
        "plt.xlabel(\"$x$ position\")\n",
        "plt.ylabel(\"$y$ position\")\n",
        "plt.grid()\n",
        "\n",
        "plt.subplot(1,2,2)\n",
        "plt.plot(controls)\n",
        "plt.plot(np.linalg.norm(controls, 2, axis=1), '--')\n",
        "plt.title(\"Optimal Control Sequence\")\n",
        "plt.xlabel(\"Time (s)\")\n",
        "plt.ylabel(\"Acceleration\")\n",
        "plt.legend([\"$a_x$\", \"$a_y$\", \"$\\|a\\|_2$\"])\n",
        "plt.grid()"
      ]
    },
    {
      "cell_type": "markdown",
      "source": [
        "### plotting x and y, and computing which time step the state reaches within 10E-1 of goal state"
      ],
      "metadata": {
        "id": "rHDlFw-64l1B"
      },
      "id": "rHDlFw-64l1B"
    },
    {
      "cell_type": "code",
      "execution_count": null,
      "id": "9ec98a6c",
      "metadata": {
        "id": "9ec98a6c"
      },
      "outputs": [],
      "source": [
        "plt.plot(states[:,0], label=\"x\")\n",
        "plt.plot(states[:,1], label=\"y\")\n",
        "plt.xlabel(\"Time step\")\n",
        "plt.legend()\n",
        "plt.grid()\n",
        "k_close = np.where(np.linalg.norm(states - goal_state, 2, axis=1) < 1E-1)[0][0]\n",
        "print(\"Time step when within 1E-1 to goal state: %i\"%k_close)"
      ]
    }
  ],
  "metadata": {
    "kernelspec": {
      "display_name": "Python 3 (ipykernel)",
      "language": "python",
      "name": "python3"
    },
    "language_info": {
      "codemirror_mode": {
        "name": "ipython",
        "version": 3
      },
      "file_extension": ".py",
      "mimetype": "text/x-python",
      "name": "python",
      "nbconvert_exporter": "python",
      "pygments_lexer": "ipython3",
      "version": "3.9.6"
    },
    "colab": {
      "provenance": [],
      "include_colab_link": true
    }
  },
  "nbformat": 4,
  "nbformat_minor": 5
}