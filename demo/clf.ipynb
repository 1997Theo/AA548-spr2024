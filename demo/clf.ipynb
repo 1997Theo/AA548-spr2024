{
  "cells": [
    {
      "cell_type": "markdown",
      "metadata": {
        "id": "view-in-github",
        "colab_type": "text"
      },
      "source": [
        "<a href=\"https://colab.research.google.com/github/UW-CTRL/AA548-spr2024/blob/main/demo/clf.ipynb\" target=\"_parent\"><img src=\"https://colab.research.google.com/assets/colab-badge.svg\" alt=\"Open In Colab\"/></a>"
      ]
    },
    {
      "cell_type": "code",
      "execution_count": null,
      "metadata": {
        "id": "rt9beOAH1jEY"
      },
      "outputs": [],
      "source": [
        "%matplotlib inline\n",
        "import numpy as np\n",
        "import jax\n",
        "import jax.numpy as jnp\n",
        "from jax.typing import ArrayLike\n",
        "import matplotlib.pyplot as plt\n",
        "from matplotlib.collections import PatchCollection\n",
        "from matplotlib.patches import Rectangle\n",
        "from ipywidgets import interact, interactive, fixed, interact_manual\n",
        "import ipywidgets as widgets\n",
        "import cvxpy as cp\n",
        "# plt.style.use('seaborn-ticks')\n"
      ]
    },
    {
      "cell_type": "markdown",
      "metadata": {
        "id": "jaIq2qhnCLnO"
      },
      "source": [
        "### dynamics"
      ]
    },
    {
      "cell_type": "code",
      "execution_count": null,
      "metadata": {
        "id": "-vRiiAI2CLnO"
      },
      "outputs": [],
      "source": [
        "def dynamics(state: ArrayLike, control: ArrayLike) -> tuple:\n",
        "    _, _, theta = state\n",
        "    v, omega = control\n",
        "    return jnp.array([v * jnp.cos(theta),\n",
        "                      v * jnp.sin(theta),\n",
        "                      omega])\n",
        "\n",
        "def control_affine_term(state):\n",
        "    _, _, theta = state\n",
        "    return jnp.array([[jnp.cos(theta), 0.],\n",
        "                      [jnp.sin(theta), 0.],\n",
        "                      [0., 1.0]])\n"
      ]
    },
    {
      "cell_type": "markdown",
      "metadata": {
        "id": "rTwzlNJHCLnO"
      },
      "source": [
        "### plotting functions"
      ]
    },
    {
      "cell_type": "code",
      "execution_count": null,
      "metadata": {
        "id": "IqMw9LHl5Bfq"
      },
      "outputs": [],
      "source": [
        "\n",
        "def rotate_vector_ccw(vector, theta):\n",
        "    return jnp.array([[jnp.cos(theta), -jnp.sin(theta)],\n",
        "                     [jnp.sin(theta), jnp.cos(theta)]]) @ vector\n",
        "\n",
        "def plot_car(ax, state, car_length=0.5, car_width=0.3, color='lightskyblue', alpha=0.6):\n",
        "    pos = state[:2]\n",
        "    theta = state[2]\n",
        "    left_corner = pos + rotate_vector_ccw(0.5 * jnp.array([-car_length, -car_width]), theta)\n",
        "    car = Rectangle(left_corner, car_length, car_width, angle=theta * 180 / jnp.pi, color=color, alpha=alpha)\n",
        "    ax.add_patch(car)\n",
        "    v_vector = jnp.stack([pos, pos + 3 * car_length / 4 * jnp.array([np.cos(theta), np.sin(theta)])])\n",
        "    ax.plot(v_vector[:,0], v_vector[:,1])\n",
        "    return ax\n",
        "\n",
        "def plot_halfspace_lessthan(ax, a, b, c, xmin, xmax, ymin, ymax, color, alpha):\n",
        "    if b == 0:\n",
        "        if c == 0:\n",
        "            if a < 0:\n",
        "                ax.fill([-c/a, xmax, xmax, -c/a], [ymin, ymin, ymax, ymax], color=color, alpha=alpha)\n",
        "            else:\n",
        "                ax.fill([-c/a, xmin, xmin, -c/a], [ymin, ymin, ymax, ymax], color=color, alpha=alpha)\n",
        "        else:\n",
        "            if a < 0:\n",
        "                ax.fill([-c/a, xmax, xmax, -c/a], [ymin, ymin, ymax, ymax], color=color, alpha=alpha)\n",
        "            else:\n",
        "                ax.fill([-c/a, xmin, xmin, -c/a], [ymin, ymin, ymax, ymax], color=color, alpha=alpha)\n",
        "    else:\n",
        "        y1 = -(a * xmin + c ) / b\n",
        "        y2 = -(a * xmax + c ) / b\n",
        "        if b > 0:\n",
        "            plt.fill_between([xmin, xmax], [y1, y2], [ymin, ymin], color=color, alpha=alpha)\n",
        "        else:\n",
        "            plt.fill_between([xmin, xmax], [ymax, ymax], [y1, y2], color=color, alpha=alpha)\n",
        "\n",
        "    return ax\n",
        "\n",
        "\n"
      ]
    },
    {
      "cell_type": "markdown",
      "metadata": {
        "id": "RTlFnROnk3DW"
      },
      "source": [
        "#### Defining CLF\n",
        "\n",
        "$V_1(x, y, \\theta) = (x - x_g)^2 + (y - y_g)^2$\n",
        "\n",
        "$V_2(x, y, \\theta) = \\left[\\theta - \\arctan\\left( \\frac{y_g - y}{x_g - x}\\right)\\right]^2$"
      ]
    },
    {
      "cell_type": "code",
      "execution_count": null,
      "metadata": {
        "id": "ainvSSbwk3DX"
      },
      "outputs": [],
      "source": [
        "goal_state = jnp.array([2.5, 0., 0.])\n",
        "\n",
        "def clfs(state: ArrayLike, goal_state: ArrayLike):\n",
        "    x, y, theta = state\n",
        "    xg, yg, _ = goal_state\n",
        "    return (x - xg)**2 + (y - yg)**2, (theta - jnp.arctan2(yg - y, xg - x))**2\n",
        "\n"
      ]
    },
    {
      "cell_type": "code",
      "execution_count": null,
      "metadata": {
        "id": "jAJ_VIbkk3DX"
      },
      "outputs": [],
      "source": [
        "# plotting set up\n",
        "lim_value = 4\n",
        "grid_points_N = 101\n",
        "grid_points = jnp.linspace(-lim_value, lim_value, grid_points_N)\n",
        "theta_points = jnp.linspace(-jnp.pi, jnp.pi, grid_points_N)\n",
        "X, Y, THETA = jnp.meshgrid(grid_points, grid_points, theta_points)\n",
        "batched_states = jnp.concatenate([X.reshape(-1,1), Y.reshape(-1,1), THETA.reshape(-1,1)], 1)\n",
        "clf_values_grid = jax.vmap(clfs, [0, None])(batched_states, goal_state)\n",
        "xmin = -3\n",
        "xmax = 3\n",
        "ymin = -3\n",
        "ymax = 3\n"
      ]
    },
    {
      "cell_type": "code",
      "execution_count": null,
      "metadata": {
        "colab": {
          "base_uri": "https://localhost:8080/",
          "height": 1000,
          "referenced_widgets": [
            "a69511f50921460da1aa4ed29de1fe4d",
            "0474077a7c644c9db62c0744a6ea7367",
            "e59eebd1586d4a7ba01cc2d9a93d7cf5",
            "c6e6a41802a8486096a8b15a6e867fd2",
            "1daaec76e4ce4c568be28006f6f710f7",
            "6d7fc6cbb8464eb39588ac7f812561f3",
            "8984884cd92f4873ae36a524112ddbf8",
            "265c79eab27e4477bedf62e4d2c3f957",
            "4b4ea4db81094d13b926c4ce4575a40f",
            "8a86469dbea24a58a540c1054a203c30",
            "77701a17b3ea4d9a9a679318a0ffc25c",
            "ddab722022be410e943debec7e9721ed",
            "9404c71f7c164d04a7b3b1539fe4457a",
            "6a2691fcafe7423da506539f63f26ec5"
          ]
        },
        "id": "GC_zud7bk3DX",
        "outputId": "3db047ae-a027-44aa-a2f0-3009bdae1f9b"
      },
      "outputs": [
        {
          "name": "stdout",
          "output_type": "stream",
          "text": [
            "shaded means feasible\n"
          ]
        },
        {
          "data": {
            "application/vnd.jupyter.widget-view+json": {
              "model_id": "6a2691fcafe7423da506539f63f26ec5",
              "version_major": 2,
              "version_minor": 0
            },
            "text/plain": [
              "interactive(children=(FloatSlider(value=0.0, description='x', max=3.0, min=-3.0), FloatSlider(value=0.0, descr…"
            ]
          },
          "metadata": {},
          "output_type": "display_data"
        },
        {
          "data": {
            "text/plain": [
              "<function __main__.foo(x, y, theta_i)>"
            ]
          },
          "execution_count": 24,
          "metadata": {},
          "output_type": "execute_result"
        }
      ],
      "source": [
        "def foo(x, y, theta_i):\n",
        "    theta = theta_points[theta_i]\n",
        "    state = jnp.array([x, y, theta])\n",
        "    fig, axs = plt.subplots(1,3,figsize=(18,4))\n",
        "    for i in range(2):\n",
        "        ax = axs[i]\n",
        "        ax.contourf(X[:,:,theta_i], Y[:,:,theta_i], clf_values_grid[i].reshape(grid_points_N, grid_points_N, grid_points_N)[:,:,theta_i], 20, alpha=0.6, cmap=\"gist_gray\")\n",
        "        plot_car(ax, state)\n",
        "        ax.set_title(\"CLF %i\"%(i+1))\n",
        "        ax.axis(\"equal\")\n",
        "        ax.set_xlim([xmin, xmax])\n",
        "        ax.set_ylim([ymin, ymax])\n",
        "        ax.grid()\n",
        "\n",
        "    ax = axs[2]\n",
        "    colors = [\"lightskyblue\", \"salmon\"]\n",
        "    alpha = 0.6\n",
        "    for i in range(2):\n",
        "        a, b = jax.grad(lambda state: clfs(state, goal_state)[i])(state) @ control_affine_term(state)\n",
        "        plot_halfspace_lessthan(ax, a, b, 0, xmin, xmax, ymin, ymax, colors[i], alpha)\n",
        "\n",
        "    ax.set_title(\"CLF Control Constraints\")\n",
        "    ax.set_xlim([xmin, xmax])\n",
        "    ax.set_ylim([ymin, ymax])\n",
        "    ax.grid()\n",
        "    ax.set_xlabel(\"v\")\n",
        "    ax.set_ylabel(\"$\\omega$\")\n",
        "    # ax.axis(\"equal\")\n",
        "\n",
        "print(\"shaded means feasible\")\n",
        "\n",
        "interact(foo, x=(xmin, xmax, 0.1),\n",
        "              y=(ymin, ymax, 0.1),\n",
        "              theta_i=(0, grid_points_N-1))"
      ]
    },
    {
      "cell_type": "markdown",
      "metadata": {
        "id": "uO0WQHDuk3DY"
      },
      "source": [
        "### Naive (myopic) controller\n",
        "\n",
        "$z = [x, y, \\theta]^T$, $u=[v, \\omega]$,  $\\dot{z} = \\begin{bmatrix} v\\cos\\theta \\\\ v\\sin\\theta \\\\ \\omega\\end{bmatrix}  = \\begin{bmatrix} \\cos\\theta & 0 \\\\ \\sin\\theta & 0 \\\\ 0& 1\\end{bmatrix} \\begin{bmatrix} v \\\\ \\omega\\end{bmatrix}$\n",
        "\n",
        "$$\\min_{v, \\omega}   \\; (v - v_d)^2 + \\gamma\\omega^2$$\n",
        "$$\\text{s.t.} \\; \\nabla V_1(z)^T f(z, u) \\leq -\\beta V_1(z)$$\n",
        "$$ \\nabla V_2(z)^T f(z, u) \\leq -\\beta V_2(z)$$"
      ]
    },
    {
      "cell_type": "code",
      "execution_count": null,
      "metadata": {
        "id": "2_XidwKrk3DZ"
      },
      "outputs": [],
      "source": [
        "m = 2\n",
        "vd = 0.5\n",
        "gamma = 0.05\n",
        "beta = 0.0\n",
        "\n",
        "u = cp.Variable(m)\n",
        "dV1 = cp.Parameter(m)\n",
        "dV2 = cp.Parameter(m)\n",
        "V1 = cp.Parameter(1)\n",
        "V2 = cp.Parameter(1)\n",
        "\n",
        "obj = cp.Minimize( (u[0] - vd)**2 + gamma * u[1]**2)\n",
        "constraints = [dV1 @ u + beta * V1 <= 0, dV2 @ u + beta * V2 <= 0]\n",
        "prob = cp.Problem(obj, constraints)\n"
      ]
    },
    {
      "cell_type": "code",
      "execution_count": null,
      "metadata": {
        "colab": {
          "base_uri": "https://localhost:8080/"
        },
        "id": "F62i2wYlk3DZ",
        "outputId": "c00d749d-3cd1-449e-8d84-cbe749b1120c"
      },
      "outputs": [
        {
          "name": "stdout",
          "output_type": "stream",
          "text": [
            "reached goal!!\n"
          ]
        }
      ],
      "source": [
        "dt = 0.1\n",
        "T_max = 200\n",
        "\n",
        "state0 = jnp.array([-3., 2., -np.pi/4])\n",
        "states = [state0]\n",
        "controls = []\n",
        "\n",
        "for t in range(T_max):\n",
        "    state = states[t]\n",
        "    dV1.project_and_assign(jax.grad(lambda state: clfs(state, goal_state)[0])(state) @ control_affine_term(state))\n",
        "    dV2.project_and_assign(jax.grad(lambda state: clfs(state, goal_state)[1])(state) @ control_affine_term(state))\n",
        "    clf_value = clfs(state,  goal_state)\n",
        "    if clf_value[0] < 1E-2:\n",
        "        print(\"reached goal!!\")\n",
        "        break\n",
        "    V1.project_and_assign(clf_value[0])\n",
        "    V2.project_and_assign(clf_value[1])\n",
        "    prob.solve()\n",
        "\n",
        "    states.append(state + dynamics(state, u.value) * dt)\n",
        "    controls.append(u.value)\n",
        "states = jnp.stack(states)\n",
        "controls = jnp.stack(controls)\n",
        "clf_values = jax.vmap(clfs, [0, None])(states, goal_state)"
      ]
    },
    {
      "cell_type": "code",
      "execution_count": null,
      "metadata": {
        "colab": {
          "base_uri": "https://localhost:8080/",
          "height": 1000,
          "referenced_widgets": [
            "033f8c83a4a142cbbbffc742728279ad",
            "1eeda65c326049339b3de3dc48bed5f0",
            "f03de0ff8b7d494e918f9fcdcded4bd4",
            "5b839494af5541c5ae3e3a97ba8f8d03",
            "f92f4e8987534693b846049e277ee77a",
            "8a8ee1cb34ec4acea2477931fb748094",
            "9c5e98bbe1924ce1b22ede2d8848141a",
            "81dd7d8568764727a0be8502891bc998",
            "26def4239aa44c3fa0fa1c6702aa0c29"
          ]
        },
        "id": "455sl-S0k3Da",
        "outputId": "56a96fa4-e793-4483-e026-92587ead48bd"
      },
      "outputs": [
        {
          "data": {
            "application/vnd.jupyter.widget-view+json": {
              "model_id": "26def4239aa44c3fa0fa1c6702aa0c29",
              "version_major": 2,
              "version_minor": 0
            },
            "text/plain": [
              "interactive(children=(IntSlider(value=99, description='t', max=199), Output()), _dom_classes=('widget-interact…"
            ]
          },
          "metadata": {},
          "output_type": "display_data"
        },
        {
          "data": {
            "text/plain": [
              "<function __main__.foo(t)>"
            ]
          },
          "execution_count": 36,
          "metadata": {},
          "output_type": "execute_result"
        }
      ],
      "source": [
        "def foo(t):\n",
        "    state = states[t]\n",
        "    fig, axs = plt.subplots(1,3,figsize=(15,4))\n",
        "    theta_i = 0\n",
        "\n",
        "    ax = axs[0]\n",
        "    ax.plot(clf_values[0], color=\"blue\")\n",
        "    ax.plot(clf_values[0][:t], color=\"blue\", linewidth=5, label=\"CLF1\")\n",
        "    ax.plot(clf_values[1], color=\"red\")\n",
        "    ax.plot(clf_values[1][:t], color=\"red\", linewidth=5, label=\"CLF2\")\n",
        "    ax.grid()\n",
        "    ax.legend()\n",
        "    ax.set_title(\"CLF values\")\n",
        "\n",
        "    ax = axs[1]\n",
        "    ax.contourf(X[:,:,theta_i], Y[:,:,theta_i], clf_values_grid[0].reshape(grid_points_N, grid_points_N, grid_points_N)[:,:,theta_i], 20, alpha=0.6, cmap=\"gist_gray\")\n",
        "    plot_car(ax, state, alpha=1)\n",
        "    ax.set_title(\"X-Y position with CLF1 overlay\")\n",
        "    ax.axis(\"equal\")\n",
        "    ax.set_xlim([xmin, xmax])\n",
        "    ax.set_ylim([ymin, ymax])\n",
        "    ax.grid()\n",
        "    ax.plot(states[:t,0], states[:t,1], color=\"black\", linestyle=\"--\", label=\"trajectory\")\n",
        "    ax.scatter(goal_state[:1], goal_state[1:2], s=100, color=\"red\", label=\"goal\")\n",
        "    ax.legend(loc=\"upper left\")\n",
        "\n",
        "\n",
        "    ax = axs[2]\n",
        "    colors = [\"lightskyblue\", \"salmon\"]\n",
        "    alpha = 0.6\n",
        "    clf_value = clfs(state,  goal_state)\n",
        "    for i in range(2):\n",
        "        a, b = jax.grad(lambda state: clfs(state, goal_state)[i])(state) @ control_affine_term(state)\n",
        "        ax = plot_halfspace_lessthan(ax, a, b, beta * clf_value[i], xmin, xmax, ymin, ymax, colors[i], alpha)\n",
        "    ax.scatter(controls[t:t+1,0], controls[t:t+1,1], color=\"blue\", zorder=4)\n",
        "    ax.axvline(vd, color=\"gray\", linestyle=\"--\")\n",
        "    ax.set_title(\"Control Constraints (CLF1: blue, CLF2: red)\")\n",
        "    ax.set_xlim([xmin, xmax])\n",
        "    ax.set_ylim([ymin, ymax])\n",
        "    ax.grid()\n",
        "    ax.set_xlabel(\"v\")\n",
        "    ax.set_ylabel(\"$\\omega$\")\n",
        "\n",
        "\n",
        "interact(foo, t=(0, T_max-1))"
      ]
    },
    {
      "cell_type": "markdown",
      "metadata": {
        "id": "hSk5RQgimwdx"
      },
      "source": [
        "### Iterating over different values of beta"
      ]
    },
    {
      "cell_type": "code",
      "execution_count": null,
      "metadata": {
        "colab": {
          "base_uri": "https://localhost:8080/"
        },
        "id": "W-KFA8cik3Da",
        "outputId": "aab15856-4aa2-41ba-ed2c-ce72bed01064"
      },
      "outputs": [
        {
          "name": "stdout",
          "output_type": "stream",
          "text": [
            "Computing for beta = 0.00\n",
            "reached goal!!\n",
            "Computing for beta = 0.10\n",
            "reached goal!!\n",
            "Computing for beta = 0.20\n",
            "reached goal!!\n",
            "Computing for beta = 0.30\n",
            "reached goal!!\n",
            "Computing for beta = 0.40\n",
            "reached goal!!\n",
            "Computing for beta = 0.50\n",
            "reached goal!!\n",
            "Computing for beta = 0.60\n",
            "reached goal!!\n",
            "Computing for beta = 0.70\n",
            "reached goal!!\n",
            "Computing for beta = 0.80\n",
            "reached goal!!\n",
            "Computing for beta = 0.90\n",
            "reached goal!!\n",
            "Computing for beta = 1.00\n",
            "reached goal!!\n"
          ]
        }
      ],
      "source": [
        "dt = 0.1\n",
        "T_max = 200\n",
        "state0 = jnp.array([-3., 2., -np.pi/4])\n",
        "states_beta = []\n",
        "controls_beta = []\n",
        "beta_list = jnp.linspace(0.0, 1.0, 11)\n",
        "for beta in beta_list:\n",
        "    print(\"Computing for beta = %.2f\"%beta)\n",
        "    u = cp.Variable(m)\n",
        "    dV1 = cp.Parameter(m)\n",
        "    dV2 = cp.Parameter(m)\n",
        "    V1 = cp.Parameter(1)\n",
        "    V2 = cp.Parameter(1)\n",
        "    vd = 0.5\n",
        "    gamma = 0.05\n",
        "    obj = cp.Minimize( (u[0] - vd)**2 + gamma * u[1]**2)\n",
        "    constraints = [dV1 @ u + beta * V1 <= 0, dV2 @ u + beta * V2 <= 0]\n",
        "    prob = cp.Problem(obj, constraints)\n",
        "    states = [state0]\n",
        "    controls = []\n",
        "    for t in range(T_max):\n",
        "        state = states[t]\n",
        "\n",
        "        dV1.project_and_assign(jax.grad(lambda state: clfs(state, goal_state)[0])(state) @ control_affine_term(state))\n",
        "        dV2.project_and_assign(jax.grad(lambda state: clfs(state, goal_state)[1])(state) @ control_affine_term(state))\n",
        "        clf_value = clfs(state,  goal_state)\n",
        "        if clf_value[0] < 1E-2:\n",
        "            print(\"reached goal!!\")\n",
        "            break\n",
        "        V1.project_and_assign(clf_value[0])\n",
        "        V2.project_and_assign(clf_value[1])\n",
        "        prob.solve()\n",
        "        states.append(state + dynamics(state, u.value) * dt)\n",
        "        controls.append(u.value)\n",
        "    states = jnp.stack(states)\n",
        "    controls = jnp.stack(controls)\n",
        "    states_beta.append(states)\n",
        "    controls_beta.append(controls)"
      ]
    },
    {
      "cell_type": "code",
      "execution_count": null,
      "metadata": {
        "id": "z9ZO7eBok3Db"
      },
      "outputs": [],
      "source": [
        "# compute CLF values for all trajectories\n",
        "clf_values = [jax.vmap(clfs, [0, None])(sb, goal_state) for sb in states_beta]\n",
        "clf_values;"
      ]
    },
    {
      "cell_type": "code",
      "execution_count": null,
      "metadata": {
        "colab": {
          "base_uri": "https://localhost:8080/",
          "height": 1000,
          "referenced_widgets": [
            "7f3f1f4c7a644440bd67beb3bb3d8acb",
            "20be401cbcd04401a47cf2292e10e7be",
            "04808c95caba4f889c88c47af46e50b9",
            "cfb343371e94459e869d9e8e97f110d9",
            "eb8bb99095be491aa9bbc2a489299e97",
            "f70e3d92a32d469d8917285bec16bea6",
            "8723e00e0be04a54b75965b1dc056fd5",
            "a2b3e31fde7940448fbefbc49db85b59",
            "e5266eb5c38e45aca290cba8fbc59b6c",
            "5d2054f605334e8e92f746dc072569e5",
            "4dca6c6b7461410f8aeeebc527952d2f"
          ]
        },
        "id": "-EdWbD3bk3Db",
        "outputId": "85cc36a0-9609-4696-cc4d-0d11c14d7316"
      },
      "outputs": [
        {
          "data": {
            "application/vnd.jupyter.widget-view+json": {
              "model_id": "4dca6c6b7461410f8aeeebc527952d2f",
              "version_major": 2,
              "version_minor": 0
            },
            "text/plain": [
              "interactive(children=(IntSlider(value=5, description='i', max=10), IntSlider(value=99, description='t', max=19…"
            ]
          },
          "metadata": {},
          "output_type": "display_data"
        },
        {
          "data": {
            "text/plain": [
              "<function __main__.hoo(i, t)>"
            ]
          },
          "execution_count": 30,
          "metadata": {},
          "output_type": "execute_result"
        }
      ],
      "source": [
        "def hoo(i, t):\n",
        "    fig, axs = plt.subplots(1,3,figsize=(15,4))\n",
        "    theta_i = 0\n",
        "    ax = axs[0]\n",
        "    ax.contourf(X[:,:,theta_i], Y[:,:,theta_i], clf_values_grid[0].reshape(grid_points_N, grid_points_N, grid_points_N)[:,:,theta_i], 20, alpha=0.6, zorder=-5, cmap=\"gist_gray\")\n",
        "    ax.set_title(\"beta=%.1f\"%beta_list[i])\n",
        "    ax.axis(\"equal\")\n",
        "    ax.set_xlim([xmin-0.3, xmax+0.3])\n",
        "    ax.set_ylim([ymin-0.3, ymax+0.3])\n",
        "    ax.grid()\n",
        "    for s in states_beta:\n",
        "        ax.plot(s[:,0], s[:,1], color=\"black\", zorder=-4)\n",
        "        # ax.scatter(s[::5,0], s[::5,1], color=\"darkgray\",)\n",
        "    ax.scatter(goal_state[:1], goal_state[1:2], s=200, color=\"red\")\n",
        "    ax.plot(states_beta[i][:,0], states_beta[i][:,1], linewidth=2, color=\"red\", zorder=-3)\n",
        "    state = states_beta[i][t]\n",
        "    plot_car(ax, state, alpha=1)\n",
        "\n",
        "    ax = axs[1]\n",
        "    [ax.plot(clf[0], color=\"black\") for clf in clf_values]\n",
        "    ax.plot(clf_values[i][0], color=\"red\", linewidth=5)\n",
        "    ax.grid()\n",
        "    ax.set_title(\"CLF1\")\n",
        "\n",
        "    ax = axs[2]\n",
        "    [ax.plot(clf[1], color=\"black\") for clf in clf_values]\n",
        "    ax.plot(clf_values[i][1], color=\"red\", linewidth=5)\n",
        "    ax.grid()\n",
        "    ax.set_title(\"CLF2\")\n",
        "    # ax.set_ylim([0, 2])\n",
        "\n",
        "\n",
        "interact(hoo, i=(0,10), t=(0, T_max-1))"
      ]
    },
    {
      "cell_type": "code",
      "execution_count": null,
      "metadata": {
        "id": "rtVARoPrk3Dc"
      },
      "outputs": [],
      "source": []
    }
  ],
  "metadata": {
    "colab": {
      "provenance": [],
      "include_colab_link": true
    },
    "kernelspec": {
      "display_name": "Python 3 (ipykernel)",
      "language": "python",
      "name": "python3"
    },
    "language_info": {
      "codemirror_mode": {
        "name": "ipython",
        "version": 3
      },
      "file_extension": ".py",
      "mimetype": "text/x-python",
      "name": "python",
      "nbconvert_exporter": "python",
      "pygments_lexer": "ipython3",
      "version": "3.9.6"
    },
    "widgets": {
      "application/vnd.jupyter.widget-state+json": {
        "033f8c83a4a142cbbbffc742728279ad": {
          "model_module": "@jupyter-widgets/controls",
          "model_module_version": "1.5.0",
          "model_name": "VBoxModel",
          "state": {
            "_dom_classes": [
              "widget-interact"
            ],
            "_model_module": "@jupyter-widgets/controls",
            "_model_module_version": "1.5.0",
            "_model_name": "VBoxModel",
            "_view_count": null,
            "_view_module": "@jupyter-widgets/controls",
            "_view_module_version": "1.5.0",
            "_view_name": "VBoxView",
            "box_style": "",
            "children": [
              "IPY_MODEL_1eeda65c326049339b3de3dc48bed5f0",
              "IPY_MODEL_f03de0ff8b7d494e918f9fcdcded4bd4"
            ],
            "layout": "IPY_MODEL_5b839494af5541c5ae3e3a97ba8f8d03"
          }
        },
        "0474077a7c644c9db62c0744a6ea7367": {
          "model_module": "@jupyter-widgets/controls",
          "model_module_version": "1.5.0",
          "model_name": "FloatSliderModel",
          "state": {
            "_dom_classes": [],
            "_model_module": "@jupyter-widgets/controls",
            "_model_module_version": "1.5.0",
            "_model_name": "FloatSliderModel",
            "_view_count": null,
            "_view_module": "@jupyter-widgets/controls",
            "_view_module_version": "1.5.0",
            "_view_name": "FloatSliderView",
            "continuous_update": true,
            "description": "x",
            "description_tooltip": null,
            "disabled": false,
            "layout": "IPY_MODEL_8984884cd92f4873ae36a524112ddbf8",
            "max": 3,
            "min": -3,
            "orientation": "horizontal",
            "readout": true,
            "readout_format": ".2f",
            "step": 0.1,
            "style": "IPY_MODEL_265c79eab27e4477bedf62e4d2c3f957",
            "value": 0
          }
        },
        "04808c95caba4f889c88c47af46e50b9": {
          "model_module": "@jupyter-widgets/controls",
          "model_module_version": "1.5.0",
          "model_name": "IntSliderModel",
          "state": {
            "_dom_classes": [],
            "_model_module": "@jupyter-widgets/controls",
            "_model_module_version": "1.5.0",
            "_model_name": "IntSliderModel",
            "_view_count": null,
            "_view_module": "@jupyter-widgets/controls",
            "_view_module_version": "1.5.0",
            "_view_name": "IntSliderView",
            "continuous_update": true,
            "description": "t",
            "description_tooltip": null,
            "disabled": false,
            "layout": "IPY_MODEL_a2b3e31fde7940448fbefbc49db85b59",
            "max": 199,
            "min": 0,
            "orientation": "horizontal",
            "readout": true,
            "readout_format": "d",
            "step": 1,
            "style": "IPY_MODEL_e5266eb5c38e45aca290cba8fbc59b6c",
            "value": 191
          }
        },
        "1daaec76e4ce4c568be28006f6f710f7": {
          "model_module": "@jupyter-widgets/output",
          "model_module_version": "1.0.0",
          "model_name": "OutputModel",
          "state": {
            "_dom_classes": [],
            "_model_module": "@jupyter-widgets/output",
            "_model_module_version": "1.0.0",
            "_model_name": "OutputModel",
            "_view_count": null,
            "_view_module": "@jupyter-widgets/output",
            "_view_module_version": "1.0.0",
            "_view_name": "OutputView",
            "layout": "IPY_MODEL_9404c71f7c164d04a7b3b1539fe4457a",
            "msg_id": "",
            "outputs": [
              {
                "name": "stderr",
                "output_type": "stream",
                "text": [
                  "<ipython-input-3-55bda368c313>:9: MatplotlibDeprecationWarning: Passing the angle parameter of __init__() positionally is deprecated since Matplotlib 3.6; the parameter will become keyword-only two minor releases later.\n",
                  "  car = Rectangle(left_corner, car_length, car_width, theta * 180 / jnp.pi, color=color, alpha=alpha)\n"
                ]
              },
              {
                "data": {
                  "image/png": "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\n",
                  "text/plain": "<Figure size 1800x400 with 3 Axes>"
                },
                "metadata": {},
                "output_type": "display_data"
              },
              {
                "data": {
                  "image/png": "iVBORw0KGgoAAAANSUhEUgAAAiEAAAGgCAYAAAB8E7dnAAAAOXRFWHRTb2Z0d2FyZQBNYXRwbG90bGliIHZlcnNpb24zLjcuMSwgaHR0cHM6Ly9tYXRwbG90bGliLm9yZy/bCgiHAAAACXBIWXMAAA9hAAAPYQGoP6dpAAAq8klEQVR4nO3df2xd9X3/8df72L7+cX/Z1z9jJ/51nTgryfpHWzLBKrovQnRVRQYSiK6oKyDIVqAaghGiDWkgJlRVTGJD2iKkoklbJSTWjrbTQAM6CiWQ37Hj/I7z2w4hkJDYSXztcz/fP45LSEnAITf5XN/7fEhHCN/Due+eOvYrr/s555hzzgkAAOAKC3wPAAAAyhMhBAAAeEEIAQAAXhBCAACAF4QQAADgBSEEAAB4QQgBAABeVPoe4EK++tWvKpfLqbm52fcoAABght5//33FYjGtXbv2c/ct2hAyMTGhMAx9jwEAAC7C1NSUZnof1KINIS0tLZKk1157zfMkAABgpq6//voZ78uaEAAA4AUhBAAAeEEIAQAAXhBCAACAF4QQAADgBSEEAAB4QQgBAABeEEIAAIAXhBAAAOAFIQQAAHhBCAEAAF4QQgAAgBeEEAAA4AUhBAAAeFGWIcS5vNzEGd9jAABQ1ip9D+CDO7BP+XfflLXPU9DTJ7W1y4IK32MBAFBWyjKEaDInd+K4dPKEwl3bpMZmBX39ss4eWV3C93QAAJSF8gwhkmSBrLlVLpeTPnhf4ZFR2ca1sq7eqB1pnSOzsvy0CgCAK6J8Q8g0i8WkTJOUz0unxuW2DCjcuUVqbFHQtzBqR2rrfI8JAEDJKfsQ8jsWBFIiKSWScrkJ6egRhe+NyDYmZN19UTvS3Eo7AgBAgRBCzsNi1VKmerodGZPbvEHhji1S03Q7Mq9bVlPre0wAAGa1gv+1/s0339Q111yjBx98sNCHvuIsCGSJlNTcJtXWSe+NKnzzVYW/eEHhmrfk3n9PzjnfYwIAMCsVtAl57rnn9OKLL6qrq6uQh/XOzKTqmmjLh9L4mNzAeoXbhqSWVgXZ6Xakusb3qAAAzBoFDSHV1dV68cUX9Q//8A+amJj43P1zuZxyudx5XyvWhsGCCimZlkukpNyENDqicOSgLJGS9c5X0N0nZZqi4AIAAC6ooCHke9/73kXtv3LlSj377LMXfD2VSl3qSJfNOe1IGLUj+Y1r5LYOSi1zovuOzO2K1pcAAIBP8bowddmyZbrzzjvP+9pNN910haf54qyiQkqlpWRKmjgjjexXeGifLJk+2440NNKOAADwCV5DSCwWUywWO+9rs/EXtplJNbXRFobS+EnlN6yW2zooa22XZftlcztlVef/3wwAQDnhEt3LJGpH6qVkWjpzRu7AXuUP7JGl6mXZfgXdWSndMCvDFgAAhUAIuczMTKqtjbZwSho7qfy6VXJDG2Vz5sqyC2QdnbLKKt+jAgBwRRFCriCrqJTSDZJz0pnTcvt2y+0bjhqRvn4FXb2ydIPvMQEAuCIKGkIWL14sSZqampIkvfrqq5KkwcHBQr7NrBe1I3VSbZ3c1HQ7suZtuc0bZO3zZL0Lon9WkhEBAKWroL/lCBsXzyorpfrpduT0KbnhnXJ7d0n1mY/Xjlgy7XtMAAAKjr9qFwkzk+riUl1cbmpSOnlC+dVvyQ1uiK6o6V0QrSGpqPA9KgAABUEIKUJWWSXVZ862I7u2yQ3vjO410tevoCsrSyR9jwkAwCUhhBSxc9qRyUnpo2PKv/um3MC66Fk1PfNlczqiW8kDADDLEEJmCauqkhoao3bk1Ljcji1yu3dImaboFvGdvbJ4wveYAADMGCFkljEzKZ6Q4gm5yZx07AOFq96QbVwr6+pR0DNfam2XBYHvUQEA+EyEkFnMqmLT7Ug+ake2bla4a5uUaVbQt1DW2SOri/seEwCA8yKElACzQIonpXhSLjchffC+wiOjsk1rZF3Z6AF6rW3RfgAAFAlCSImxWLWUqZbyeenUmNzQJoU7tkhNLWfbkZpa32MCAEAIKVUWBFIiJSVSchMT0pHDCg+PyOIJWU9WQfd8qbmVB+gBALwhhJQBq66WqpujdmR8TG5wo8LtW6TmVgXZ/qgdqa7xPSYAoMwQQsqIBYGUTMklklJuQjo8onDkoCyRlPX0KejpkxpbaEcAAFcEIaQMmZlUXRNt+VAaH1N+YJ3cts1S65yoHZnXHa0vAQDgMiGElDkLKqRkOlo/MjEhjRxUeGi/LJGS9c6PrqzJNNGOAAAKjhACSdPtSE1NtIWhNH5S+Y1r5LYOSm3tCnoXRO1IVcz3qACAEkEIwadYRYWUqo8akokz0oF9Cg/slaXSst4FUTtSn6EdAQBcEkIILihqR2qjLZySxsaUX79absuArK1Dll0g6+iKnmsDAMBFIoRgRqyiUkrXRw/QO3Nabv+w8vv3yNL1smy/gq5eWX3G95gAgFmEEIKLYmZSbV20TU1Fa0fWvi23eYOsfZ6sd4Gso1NWybcWAOCz8ZsCX5hVVkrphqgdOX1Kbu8uuX27pXRD1I50Z2Wpet9jAgCKFCEEl8zMpLq4VBeXm5qSxk4ov+a3UTvS0SnrnR+1JBV8uwEAzuK3AgrKKiul+szZdmT3Drk9O6WGxum1I1lZMuV7TABAESCE4LI4tx2ZlE58pPy7b8kNrpfN7Zb19MnmzI0uBwYAlCVCCC47q6w6246cGpfbuUVueLvU0Kigb6Gss1eWSPoeEwBwhRFCcMWYmRRPSPGE3GROOn5M4arfyDatjYJIT5+srT26lTwAoOQRQuCFVcWkhkbJ5aN2ZPuQ3K5tUmOTguxCWVePrC7he0wAwGVECIFXZoEUT0rxpFwuJ31wVOGR/5NtWiPryiro6ZNa50T7AQBKCiEERcNiMSnTJOWn25GtAwp3bpEaWxT09Ucf2dTW+R4TAFAghBAUHQsCKZGUEkm53IR09IjC90ZkG9fIuvuiB+i1tNKOAMAsRwhBUbNYtZSpnm5HxuSGNircMSQ1tUZX1szrltXU+h4TAPAFEEIwK0TtSEpKpOQmJqT3RhWOHpIlErKe6XakqTW6AgcAMCsQQjDrWHW1VN0ctSPjJ+UG1ivcNiS1tEZX1szrllXX+B4TAPA5CCGYtSwIpGRaLpGSchPS6IjCkYOyRFLWu0BBV1ZqbKYdAYAiRQjBrGdmUnVNtIWhND6m/Ma1clsHpJb26MqauV3R+hIAQNEghKCkWEWFlEpLyZQ0cUYa2a/w0D5ZMhW1I9190cP0aEcAwDtCCEqSmUk1tdEWhtL4SeU3rJHbMiBr65Bl+2VzO6M7twIAvCCEoORF7Ui9lHTSmTNyB/Yqf2CPLFUvy06vHanP0I4AwBVGCEHZMDOptjbawilp7KTy696RG9okmzNXll0g6+iMnvoLALjsCCEoS1ZRKaUbJOekM6fl9u2W2zcspRuidqQ7K0s3+B4TAEoaIQRlLWpH6qTaOrmpqWjtyNpVcps3RK1I7wJZ+zxZJX9UAKDQ+MkKTLPKT7Qjp0/JDe+U27srWi+S7VfQlZWl0r7HBICSQQgBfo+ZSXVxqS4uNzUpnTyh/Oq35AY3RFfU9C6I1pBUVPgeFQBmNUII8Bmsskqqz5xtR3ZtlxveKTVMtyPdWVki5XtMAJiVCCHADJzTjkxOSh8dV/7dt+QG10fPqumZL5vTIQtoRwBgpgghwEWyqiqpoTFqR06Ny+3YIrd7h5RpjB6g19Ujiyd9jwkARY8QAnxBZibFE1I8ITeZk459qPCdN2Sb1sq6ehT0zJda26MH7QEAPoUQAhSAVcWm25F81I5s26xw5zapsVlB30JZZ4+sLu57TAAoKoQQoIDMAimelOJJuVxO+uB9hUdGZZvWyLqy0QP0Wtui/QCgzBFCgMvEYjEp0yTlp9uRoU0Kd2yRmpoV9P1BtKC1ts73mADgDSEEuMwsCKREUkok5XIT0pH3FB4elcXjsp6+qB1pbqUdAVB2CCHAFWSxaqmxOWpHxsfkBjcq3L5Fam6Jrqzp7JFV1/geEwCuCEII4IEFgZRMySWSUm5COjyqcOSQLJE82440tURX4ABAiSKEAB6ZmVRdE235MGpHBtYr3LZZap2jINsvm9tFOwKgJBFCgCJhQYWUTMslUtLEhDRyUOGh/bJEStY7P2pHMk20IwBKBiEEKDJmJtXURFsYtSP5jWvktg6e247Eqn2PCgCXhBACFDGrqJBSaSmZkibOSAf3Kzy4T5ZKy3oXKOjKSg2NtCMAZiVCCDALRO1IbbSFoTR+Uvn1q+W2DMja2mXZfllHV/RcGwCYJQghwCwTtSP1UtJJZ07L7d+j/P69snR91I50Z2X1Gd9jAsDnIoQAs5SZSbV10TY1FbUj61bJDW2Utc+V9fbLOjpllfwxB1Cc+OkElACrrJTSDZKbbkf27pbbNyylG2TZ/qgdSdX7HhMAzkEIAUrIJ9sRNzUljZ1Ufs3bcps3RK1I73xZ+zxZBX/0AfjHTyKgRFllpVQ/3Y6cPiU3vENuzy6p/hPtSDLte0wAZYwQApQ4M5Pq4lJdXG5qUjp5QvnVb0XtyNwuWc982Zy50YJXALiCCCFAGbHKKqk+M92OjMvt3Co3vCO610i2X0FXVpZI+h4TQJkghABlKGpHElJdQm4yJx0/pvw7v5EbWBc9ybdnfnT/kYB2BMDlQwgBypxVxaSGRsnlpVPjctuH5HZtlzJNCvoWyrp6ZHUJ32MCKEGEEACSJLNAiieleDJqRz48qnDV/8k2rZF19UYP0GttlwWB71EBlAhCCIBPsaqYlGmS8tPtyNZBhTu3So3NUTvS2SurrfM9JoBZjhAC4IIsCKREUkok5XIT0tH3Fb43Ktu4Rtbdp6A7K7W0RS0KAFwkQgiAGbFYtZSpnm5HxuSGNircPiQ1tUy3Iz2ymlrfYwKYRQghAC5K1I6kpERKbmJCOnJY4eERWSIh6+lT0NUnNbdGV+AAwGcoeAg5dOiQHn/8cW3atEl1dXX61re+pYceekgBi9mAkmPV1VJ1c9SOjJ+UG1ivcNuQ1NKqILtQNq9bVl3je0wARargIeSBBx7QVVddpVdffVUffPCBli1bpqamJt15552FfisARcKCQEqm5RIpKTchjR5SeOigLJmU9SxQ0N0rNbbQjgA4R0HricHBQW3btk0PP/ywksmkuru79f3vf18vvPBCId8GQJEyM1l1jayxRdbYJOUmld+0RuH//JfC//2V8ru3RwtcAUAFbkKGhobU0dGhdPrsQ7Guuuoq7dmzR2NjY0okzr3hUS6XUy6XO++xnHOFHA3AFWZBhZRKS8mUNHFGGtmv8NA+WTIl612goCsrZZpoR4AyVtAQcvz4caVSqXO+9rtAcuzYsU+FkJUrV+rZZ5+94PF+/1gAZh8zk2pqoy0MpfGTym9YLbdlQGprV5Dtjx6kVxXzPSqAK6zga0IupsFYtmzZBdeK3HTTTYUaCUCRsIoKKVUvJdNRO3Jgn8IDe2Wpell2uh2pz9COAGWioCEkk8no+PHj53zt+PHjMjNlMplP7R+LxRSLnf9vP/wQAkrXue3IlDR2Uvl178gNbZLN6ZD19svmdkZP/QVQsgoaQhYtWqTR0VF9+OGHH4eOwcFB9fX1KR6PF/KtAJQIq6iU0g2Sc9KZ03L79sjt3yOl6mXZfgVdvbL6T/8lBsDsV9CrY770pS9p8eLFevrppzU2Nqbdu3fr+eef13e+851Cvg2AEmRmsto6WVOLlM5Ip8aVX/u2wv/+T4X/94ry+/fITU35HhNAARV8Tcg//dM/6bHHHtO1116rRCKh22+/XX/+539e6LcBUMKs8hPtyOlTcsM75fbuktINsr6FUTuSqvc9JoBLVPAQ0tbWpueee67QhwVQhsxMqotLdXG5qclo7cjqt+QG10dX1PQukM2ZGy14BTDr8OwYALOCVVZJ9Zmz7ciu7XLDO6WGTLR2pDsrS3BZPzCbEEIAzCrntCOTk9JHHyn/7nQ7Mq9b1jM/usImoB0Bih0hBMCsZVVVUsN0O3JqXG7HFrndO6SGRgV9C2VdPbJ40veYAC6AEAJg1jMzKZ6Q4gm5yZx0/EOF77wh27RG1tmroHe+1NoePWgPQNEghAAoKVYVkxoaJZeP2pHtmxXu2iY1Nivo65d19srquG8RUAwIIQBKklkgxZNSPCmXy0kfvK/wvVHZxrWyrl4FPfOl1rZoPwBeEEIAlDyLxaRMk5Sfbke2DCjcuXW6HVko6+yR1db5HhMoO4QQAGXDgkBKJKVEUi43IR09ovC9EdnGhKynT0F3n9TcSjsCXCGEEABlyWLVUqY6akfGx+QGNyrcvkVqblGQXRhd7ltT63tMoKQRQgCUNQsCKZmSSySl3IR0eFThyEFZInW2HWlq4cnewGVACAEATV/mW10TbfkwakcG1ivctllqaVOQ7Y/akeoa36MCJYMQAgC/x4IKKZmWS6SidmT0kMKRA1E70js/akcyTbQjwCUihADABZzTjoRRO5LfuEZu66DUMie678jcrmh9CYCLRggBgBmwigoplZaSKWnijDSyX+GhfbJkWpZdoKArKzU00o4AF4EQAgAXwcykmtpoC0Np/KTy69+V2zIga22XZafbkaoq36MCRY8QAgBfUNSO1EvJtHTmjNyBPcof2CNLN8h6FyjozkrpBtoR4AIIIQBwicxMqq2NtnBKGjup/Lp35IY2yubMlWUXyDo6ZZW0I8AnEUIAoICsolJKN0jOSWdOy+3bLbd/OGpEsv0Kunpl6QbfYwJFgRACAJdB1I7USbV1clPT7ciat+U2b5C1z4vakfZ5UWgByhTf/QBwmVllpVQ/3Y6cPiU3vFNu726pfrod6c7KkmnfYwJXHCEEAK4QM5Pq4lJdXG5qUjp5QvnVb8kNboiuqOmdH60hqajwPSpwRRBCAMADq6yS6jPT7ci43K6tcnt2RPcayfYr6MrKEknfYwKXFSEEADyK2pGEVJeQm5yUjh9T/p3fyA2si55V07tA1tYe3UoeKDGEEAAoElZVJTU0Ru3IqXG5HVvkdu+QMk3RLeK7emV1Cd9jAgVDCAGAImNmUjwhxRNykznp2AcKV70h27hW1tWroKdPam2XBYHvUYFLQggBgCJmVbHpdiQvjY/LbRtUuGur1NisILtQ1tkjq4v7HhP4QgghADALmAVSIiklknK5Ceno+wrfG5VtWiPrykbtSEtbtB8wSxBCAGCWsVi1lKmW8nnp1Jjclk0Kd2yRmloU9E23IzW1vscEPhchBABmKQsCKZGSEim5iQnpyGGFh0dk8YSsp09Bd5/U3MoD9FC0CCEAUAKsulqqbo7akfExuc0bFG4fkppbFWT7o3akusb3mMA5CCEAUEIsCKRkSi6RlHIT0uERhSMHZYmkrHe+gu6s1NhCO4KiQAgBgBJkZlJ1TbTlQ2l8TPlNa+W2Dkqtc6J2ZF53tL4E8IQQAgAlzoIKKZmO1o9MnJFGDig8tF+WTMl6FyjoykqZJtoRXHGEEAAoE2Ym1dRGWxhK4yeV37BabsuA1NauoHdB1I5UxXyPijJBCAGAMmQVFVKqPmpIJs5IB/YpPLBXlqqP2pHurFSfoR3BZUUIAYAydm47MiWNnVR+/TtyWzbJ5nTIevtlczujp/4CBUYIAQBIkqyiUko3RA/QO3Nabt+w3P49Uqpelu1X0NUrq8/4HhMlhBACADiHmUm1dVJtndzUVLR2ZO3bcps3yDo6Zb3zZe2dskp+heDS8B0EALggq/xEO3L6lNyenXJ7d0npBlnfwqgdSdX7HhOzFCEEAPC5zEyqi0t1cbmpyWjtyOrfyg2ul83tkvXMl7XPixa8AjNECAEAXBSrrJLqM2fbkV3b5YZ3SA2N02tHsrJkyveYmAUIIQCAL+ScdmRyUvroI+XffStqR+Z1R+3InI7oZmnAeRBCAACXzKqqpIbpduTUuNyOrXK7t0sNjQr6/kDW1SOLJ32PiSJDCAEAFIyZSfGEFE/ITeak48cUvvOGbNMaWWevgp4+qa2ddgSSCCEAgMvEqmJSQ6Pk8lE7sn1I4a5tUmOzgr5+WWePrC7he0x4RAgBAFxWZoEUT0rxpFwuJ33wvsIjo7KNa2Rd2agdaZ0T7YeyQggBAFwxFotJmSYpP92ObB1QuHOL1NiioG9h1I7U1vkeE1cIIQQAcMVZEEiJpJRIyuUmpKNHFL43ItuYkHX3Kejuk1paaUdKHCEEAOCVxaqlTPV0OzImt3mDwh1DUlNr1I7M65bV1PoeE5cBIQQAUBSidiQlF09KuQnpvVGFo4dkiYSsp09B93ypqSW6AgclgRACACgqZiZV10RbPi+Nn5QbWK9w25DU0qogO92OVNf4HhWXiBACAChaFgRSMi2XSEXtyOiIwpGDskRK1js/WjuSaaIdmaUIIQCAondOOxKG0viY8hvXyG0dlFrmRPcdmdsVrS/BrEEIAQDMKlZRIaXSUjIlTZyRRvYrPLRPlkyfbUcaGmlHZgFCCABgVjIzqaY22sJQGj+p/IbVclsHZa3tsmy/bG5ndOdWFCVCCABg1ovakXopmZbOnJE7sFf5A3tkqXpZtl9Bd1ZKN9COFBlCCACgZJiZVFsbbeGUNHZS+XWr5IY2yubMlWUXyDo6ZZVVvkeFCCEAgBJlFZVSukFyTjpzWm7fbrl9w1Ej0tevoKtXlm7wPWZZI4QAAEpa1I7USbV1clPT7ciat+U2b5C1z5P1Loj+WcmvxCuNMw4AKBtWWSnVT7cjp0/JDe+U27tLqs98vHbEkmnfY5YNQggAoOyYmVQXl+riclOT0skTyq9+S25wQ3RFTe+CaA1JRYXvUUsaIQQAUNasskqqz5xtR3ZtlxveKTVkZH0Lo7UjiZTvMUsSIQQAAP1eOzI5KX10XPl335QbWBc9q6ZnvmxOhyygHSkUQggAAL/HqqqkhsaoHTk1Lrdji9zuHVKmUUHfQllnryye8D3mrEcIAQDgAsxMiiekeEJuMicd+1DhqjdkG9fKunoU9MyXWtujB+3hohFCAACYAauKTbcj+agd2bZZ4c5tUmPzdDvSI6uL+x5zViGEAABwEcwCKZ6U4km5XE764H2FR0Zlm9bIurLRA/Ra26L98JkIIQAAfEEWi0mZJik/3Y4MbVK4Y4vU1HK2Hamp9T1m0SKEAABwiSwIpERSSiTlchPSkcMKD4/I4glZT1ZB93ypuZUH6P0eQggAAAVksWqpsTlqR8bH5AY3Kty+RWpuVZDtj9qR6hrfYxYFQggAAJeBBYGUTMklklJuQjo8onDkoCyRlPX0KejpkxpbyrodKfiqmcHBQd1www267bbbCn1oAABmHTOTVdfIGptljU3S1KTyA+sU/s9/KfzfXyq/e3v0EU4ZKmgT8otf/EL/+I//qL6+Pp04caKQhwYAYNazoEJKpqVESpqYkEYOKjy0X5ZIyXrnR1fWZJrKph0paBMyMTGhF154QV/+8pcLeVgAAEqKmclqptuRhiYpl1N+4xqF//Nzha/+t/LDO6Kbo5W4gjYht95660Xtn8vllMud/yQ75woxEgAARc0qKqRUWkqmpIkz0sF9Cg/ulaXSst4FUTtSnynJdsTrwtSVK1fq2WefveDrqRRPLQQAlAczk2pqoy2cksbGlF+/Wm7LgKytQ5ZdIOvoip5rUyIuKoS89NJLeuSRR8772lNPPaVbbrnlot582bJluvPOO8/72k033XRRxwIAoFRYRaWUro8eoHfmtNz+YeX375Gl62XZfgVdvbL6jO8xL9lFhZClS5dq6dKlBXvzWCymWCx23tdKsXYCAOBimJlUWxdtU1PS+Enl174tt3mDrH2urLdf1tEpq5ydd9yYnVMDAFBmrLJSSjdE7cjpU3J7d8vtG5bSDVE70p2Vpep9j3lRCCEAAMwiZibVxaW6uNzUlDR2Qvk1v43akY5OWe98Wfu86COdIlfQCW+88UaNjIwoDEPl83ktXrxYkvTyyy+ro6OjkG8FAEDZs8pKqT5zth0Z3iG3Z6fU0Di9diQrSxbvRR4FDSGvvPJKIQ8HAABm4Nx2ZFI68ZHy774lN7heNrdb1tMnmzM3uhy4iBR/VwMAAGbMKqvOtiOnxuV2bpEb3i41NCroWyjr7JUlkr7HlEQIAQCgJJmZFE9I8UR099XjxxSu+o1s09ooiPT0ydrao1vJe0IIAQCgxFlVTGpolFw+ake2D8nt2ibr61fFtf/P21wFf4ouAAAoTmaBLJ6UNbdKktzYSa/zEEIAAChHRXBTUEIIAADwghACAAC8IIQAAAAvCCEAAMALQggAAPCCEAIAALwghAAAAC8IIQAAwAtCCAAA8IIQAgAAvCCEAAAALwghAADAC0IIAADwghACAAC8IIQAAAAvCCEAAMALQggAAPCCEAIAALwghAAAAC8IIQAAwAtCCAAA8IIQAgAAvCCEAAAALwghAADAC0IIAADwghACAAC8IIQAAAAvCCEAAMALQggAAPCCEAIAALwghAAAAC8IIQAAwAtCCAAA8IIQAgAAvCCEAAAALwghAADAC0IIAADwghACAAC8IIQAAAAvCCEAAMALQggAAPCCEAIAALwghAAAAC8IIQAAwAtCCAAA8IIQAgAAvCCEAAAALwghAADAC0IIAADwghACAAC8IIQAAAAvCCEAAMALQggAAPCCEAIAALwghAAAAC8IIQAAwAtCCAAA8IIQAgAAvCCEAAAALwghAADAC0IIAADwghACAAC8IIQAAAAvCCEAAMALQggAAPCCEAIAALwoaAg5duyYli9frmuvvVZLlizR/fffr9HR0UK+BQAAKBEFDSErVqzQ0aNH9ctf/lKvvPKKJicntWLFikK+BQAAKBGVhTqQc06tra367ne/q0wmI0m6/fbb9cMf/lDOOZnZp/6bXC6nXC53weMBAIDSVbAQYmZ6/PHHz/na6OiompubzxtAJGnlypV69tlnL3jMVCpVqPEAAECRKVgI+X0HDx7UM888o4cffviC+yxbtkx33nnneV+76aabLtdoAACgCFxUCHnppZf0yCOPnPe1p556Srfccoskaffu3br77rt1880369Zbb73g8WKxmGKx2Hlfu1B7AgAASsNFhZClS5dq6dKln7nPwMCA7rnnHt11111atmzZJQ0HAABKV0E/jtm7d6/uvfdeLV++/ONWBAAA4HwKeonuE088odtuu40AAgAAPlfBmpDR0VH99re/1erVq/X888+f89pPfvITfe1rXyvUWwEAgBJQsBAyZ84cbd++vVCHAwAAJY5nxwAAAC8IIQAAwAtCCAAA8IIQAgAAvCCEAAAALwghAADAC0IIAADwghACAAC8IIQAAAAvCCEAAMALQggAAPCCEAIAALwghAAAAC8IIQAAwAtCCAAA8IIQAgAAvCCEAAAALwghAADAC0IIAADwghACAAC8IIQAAAAvCCEAAMALQggAAPCCEAIAALwghAAAAC8IIQAAwAtCCAAA8IIQAgAAvCCEAAAALwghAADAC0IIAADwghACAAC8IIQAAAAvCCEAAMALQggAAPCCEAIAALwghAAAAC8IIQAAwAtCCAAA8IIQAgAAvCCEAAAALwghAADAC0IIAADwghACAAC8IIQAAAAvCCEAAMALQggAAPCCEAIAALwghAAAAC8IIQAAwAtCCAAA8IIQAgAAvCCEAAAALwghAADAC0IIAADwghACAAC8IIQAAAAvCCEAAMALQggAAPCCEAIAALwghAAAAC8IIQAAwAtCCAAA8IIQAgAAvCCEAAAALwghAADAC0IIAADwghACAAC8IIQAAAAvCCEAAMCLgoaQgwcP6gc/+IGuvvpqLVmyRPfcc4/27NlTyLcAAAAloqAh5L777lNTU5N+/etf67XXXlMikdCDDz5YyLcAAAAlomAhJJfL6Y477tBDDz2keDyuRCKhb3/729q1a5ecc4V6GwAAUCIqC3WgWCymW2+99eN/Hx0d1U9/+lN985vflJmd97/J5XLK5XLnfe3yBxcnl5u4zO8BAECRyoe+JyhcCPmkRYsWaXJyUjfccIOeeOKJC+63cuVKPfvssxd8PZVKXY7xpMpKWW1cOn3q8hwfAIBiV1klq67xOoK5i6gcXnrpJT3yyCPnfe2pp57SLbfc8vG/Hz58WD/60Y90+PBh/cd//IeC4NOf/HxWE3LTTTdJkl5//fWZjjdjzuWlEx9JfEwEAChndXFZrLqgh7z++uslSa+99trn7ntRTcjSpUu1dOnSGe3b1tamFStW6Otf/7qGhoa0ePHiT+0Ti8UUi8XO+99f6COcQjALpHTDZTs+AAD4fAVbmDo8PKzrrrtOx44dO3vw6fajqqqqUG8DAABKRMFCSFdXl5LJpJ588kmdOHFCY2Njevrpp9XZ2ane3t5CvQ0AACgRBQshFRUVWrlypU6dOqXrrrtO119/vY4ePap//dd/veBHLgAAoHwV9OqYjo4O/cu//EshDwkAAEoUz44BAABeEEIAAIAXhBAAAOAFIQQAAHhBCAEAAF4QQgAAgBeEEAAA4AUhBAAAeEEIAQAAXhT0jqmFdOTIEYVh+PEjgQEAQPEbHR1VRUXFjPYt2iakurpalZWXJyM553TixAk55y7L8UsJ52rmOFczx7maOc7VzHGuLs7lOl+VlZWqrq6e0b7myvD/rbGxMX3lK1/RunXrlEgkfI9T1DhXM8e5mjnO1cxxrmaOc3VxiuF8FW0TAgAAShshBAAAeEEIAQAAXhBCAACAF4QQAADgBSEEAAB4UZYhJBaL6f7771csFvM9StHjXM0c52rmOFczx7maOc7VxSmG81WW9wkBAAD+lWUTAgAA/COEAAAALwghAADAC0IIAADwghACAAC8KNsQcvDgQf3gBz/Q1VdfrSVLluiee+7Rnj17fI9VtI4dO6bly5fr2muv1ZIlS3T//fdrdHTU91hFa3BwUDfccINuu+0236MUnUOHDunee+/VkiVL9Cd/8if68Y9/rHw+73usovXmm2/qmmuu0YMPPuh7lKJ26NAh3XfffVqyZImuueYaPfroozpx4oTvsYrStm3b9Bd/8Rf6yle+omuuuUZ//dd/rffff9/LLGUbQu677z41NTXp17/+tV577TUlEgn+kH+GFStW6OjRo/rlL3+pV155RZOTk1qxYoXvsYrSL37xCz3wwAPq6uryPUpReuCBB9Ta2qpXX31Vzz//vF599VX927/9m++xitJzzz2nJ598ku+lGfjLv/xLpVIpvf766/rZz36mnTt36kc/+pHvsYpOLpfTXXfdpauvvlqrVq3Sr371K33wwQf6+7//ey/zlGUIyeVyuuOOO/TQQw8pHo8rkUjo29/+tnbt2iVum/Jpzjm1trZq+fLlymQyqq+v1+23365169Zxvs5jYmJCL7zwgr785S/7HqXoDA4Oatu2bXr44YeVTCbV3d2t73//+3rhhRd8j1aUqqur9eKLLxJCPseJEye0aNGij3+mt7W16eabb9batWt9j1Z0Tp8+rQcffFDLli1TLBZTJpPRDTfcoJ07d3qZp9LLu3oWi8V06623fvzvo6Oj+ulPf6pvfvObMjOPkxUnM9Pjjz9+ztdGR0fV3NzM+TqPT35v4VxDQ0Pq6OhQOp3++GtXXXWV9uzZo7GxMSUSCY/TFZ/vfe97vkeYFVKplJ566qlzvjY6OqqWlhZPExWvdDp9zs+o4eFh/fznP9ef/umfepmnLJuQT1q0aJG+8Y1vqLa2Vk888YTvcWaFgwcP6plnntFf/dVf+R4Fs8zx48eVSqXO+drvAsmxY8d8jIQSNDg4qH//93/nZ9RnOHTokBYtWqRvfetbWrx4sX74wx96maNkQ8hLL72k/v7+824/+9nPPt5v8+bNeuONN1RVVaW77767bBfIzfR87d69W3fccYduvvnmsv0b/0zPFc6Pj/BwOa1bt0533323HnroIV1zzTW+xylaHR0dGhwc1Msvv6y9e/fqkUce8TJHyX4cs3TpUi1dunRG+7a1tWnFihX6+te/rqGhIS1evPgyT1d8ZnK+BgYGdM899+iuu+7SsmXLrtBkxedivrdwrkwmo+PHj5/ztePHj8vMlMlk/AyFkvH666/rb/7mb/TYY4/pz/7sz3yPU/TMTN3d3XrwwQd1++2362//9m+v+J/Dkm1CPsvw8LCuu+66c+rfIIhORVVVla+xitrevXt17733avny5WUdQHBpFi1apNHRUX344Ycff21wcFB9fX2Kx+MeJ8Nst379ei1fvlzPPPMMAeQzrFq1SjfeeOM5rb/P339lGUK6urqUTCb15JNP6sSJExobG9PTTz+tzs5O9fb2+h6vKD3xxBO67bbbdMstt/geBbPYl770JS1evFhPP/20xsbGtHv3bj3//PP6zne+43s0zGJTU1P6u7/7Oz388MP64z/+Y9/jFLVFixZpbGxMP/7xj3X69Gl9+OGH+ud//md99atfVTKZvOLzmCvTD2gPHTqkJ598Uu+8845isZj+8A//UI8++qiy2azv0YrO6OiovvGNb6iqqupTV8P85Cc/0de+9jVPkxWnG2+8USMjIwrDUPl8/uO/Xbz88svq6OjwPJ1/hw8f1mOPPabVq1crkUjo9ttv1/3338+VVufxu4+Gp6amJEmVldEn6IODg95mKkZr167Vd7/7XcVisU+9xp+7T9u+fbuefPJJDQwMqK6uTn/0R3+kRx99VK2trVd8lrINIQAAwK+y/DgGAAD4RwgBAABeEEIAAIAXhBAAAOAFIQQAAHhBCAEAAF4QQgAAgBeEEAAA4AUhBAAAeEEIAQAAXhBCAACAF/8fVjVWpmgGWAAAAAAASUVORK5CYII=\n",
                  "text/plain": "<Figure size 640x480 with 1 Axes>"
                },
                "metadata": {},
                "output_type": "display_data"
              }
            ]
          }
        },
        "1eeda65c326049339b3de3dc48bed5f0": {
          "model_module": "@jupyter-widgets/controls",
          "model_module_version": "1.5.0",
          "model_name": "IntSliderModel",
          "state": {
            "_dom_classes": [],
            "_model_module": "@jupyter-widgets/controls",
            "_model_module_version": "1.5.0",
            "_model_name": "IntSliderModel",
            "_view_count": null,
            "_view_module": "@jupyter-widgets/controls",
            "_view_module_version": "1.5.0",
            "_view_name": "IntSliderView",
            "continuous_update": true,
            "description": "t",
            "description_tooltip": null,
            "disabled": false,
            "layout": "IPY_MODEL_f92f4e8987534693b846049e277ee77a",
            "max": 199,
            "min": 0,
            "orientation": "horizontal",
            "readout": true,
            "readout_format": "d",
            "step": 1,
            "style": "IPY_MODEL_8a8ee1cb34ec4acea2477931fb748094",
            "value": 152
          }
        },
        "20be401cbcd04401a47cf2292e10e7be": {
          "model_module": "@jupyter-widgets/controls",
          "model_module_version": "1.5.0",
          "model_name": "IntSliderModel",
          "state": {
            "_dom_classes": [],
            "_model_module": "@jupyter-widgets/controls",
            "_model_module_version": "1.5.0",
            "_model_name": "IntSliderModel",
            "_view_count": null,
            "_view_module": "@jupyter-widgets/controls",
            "_view_module_version": "1.5.0",
            "_view_name": "IntSliderView",
            "continuous_update": true,
            "description": "i",
            "description_tooltip": null,
            "disabled": false,
            "layout": "IPY_MODEL_f70e3d92a32d469d8917285bec16bea6",
            "max": 10,
            "min": 0,
            "orientation": "horizontal",
            "readout": true,
            "readout_format": "d",
            "step": 1,
            "style": "IPY_MODEL_8723e00e0be04a54b75965b1dc056fd5",
            "value": 10
          }
        },
        "265c79eab27e4477bedf62e4d2c3f957": {
          "model_module": "@jupyter-widgets/controls",
          "model_module_version": "1.5.0",
          "model_name": "SliderStyleModel",
          "state": {
            "_model_module": "@jupyter-widgets/controls",
            "_model_module_version": "1.5.0",
            "_model_name": "SliderStyleModel",
            "_view_count": null,
            "_view_module": "@jupyter-widgets/base",
            "_view_module_version": "1.2.0",
            "_view_name": "StyleView",
            "description_width": "",
            "handle_color": null
          }
        },
        "4b4ea4db81094d13b926c4ce4575a40f": {
          "model_module": "@jupyter-widgets/base",
          "model_module_version": "1.2.0",
          "model_name": "LayoutModel",
          "state": {
            "_model_module": "@jupyter-widgets/base",
            "_model_module_version": "1.2.0",
            "_model_name": "LayoutModel",
            "_view_count": null,
            "_view_module": "@jupyter-widgets/base",
            "_view_module_version": "1.2.0",
            "_view_name": "LayoutView",
            "align_content": null,
            "align_items": null,
            "align_self": null,
            "border": null,
            "bottom": null,
            "display": null,
            "flex": null,
            "flex_flow": null,
            "grid_area": null,
            "grid_auto_columns": null,
            "grid_auto_flow": null,
            "grid_auto_rows": null,
            "grid_column": null,
            "grid_gap": null,
            "grid_row": null,
            "grid_template_areas": null,
            "grid_template_columns": null,
            "grid_template_rows": null,
            "height": null,
            "justify_content": null,
            "justify_items": null,
            "left": null,
            "margin": null,
            "max_height": null,
            "max_width": null,
            "min_height": null,
            "min_width": null,
            "object_fit": null,
            "object_position": null,
            "order": null,
            "overflow": null,
            "overflow_x": null,
            "overflow_y": null,
            "padding": null,
            "right": null,
            "top": null,
            "visibility": null,
            "width": null
          }
        },
        "5b839494af5541c5ae3e3a97ba8f8d03": {
          "model_module": "@jupyter-widgets/base",
          "model_module_version": "1.2.0",
          "model_name": "LayoutModel",
          "state": {
            "_model_module": "@jupyter-widgets/base",
            "_model_module_version": "1.2.0",
            "_model_name": "LayoutModel",
            "_view_count": null,
            "_view_module": "@jupyter-widgets/base",
            "_view_module_version": "1.2.0",
            "_view_name": "LayoutView",
            "align_content": null,
            "align_items": null,
            "align_self": null,
            "border": null,
            "bottom": null,
            "display": null,
            "flex": null,
            "flex_flow": null,
            "grid_area": null,
            "grid_auto_columns": null,
            "grid_auto_flow": null,
            "grid_auto_rows": null,
            "grid_column": null,
            "grid_gap": null,
            "grid_row": null,
            "grid_template_areas": null,
            "grid_template_columns": null,
            "grid_template_rows": null,
            "height": null,
            "justify_content": null,
            "justify_items": null,
            "left": null,
            "margin": null,
            "max_height": null,
            "max_width": null,
            "min_height": null,
            "min_width": null,
            "object_fit": null,
            "object_position": null,
            "order": null,
            "overflow": null,
            "overflow_x": null,
            "overflow_y": null,
            "padding": null,
            "right": null,
            "top": null,
            "visibility": null,
            "width": null
          }
        },
        "5d2054f605334e8e92f746dc072569e5": {
          "model_module": "@jupyter-widgets/base",
          "model_module_version": "1.2.0",
          "model_name": "LayoutModel",
          "state": {
            "_model_module": "@jupyter-widgets/base",
            "_model_module_version": "1.2.0",
            "_model_name": "LayoutModel",
            "_view_count": null,
            "_view_module": "@jupyter-widgets/base",
            "_view_module_version": "1.2.0",
            "_view_name": "LayoutView",
            "align_content": null,
            "align_items": null,
            "align_self": null,
            "border": null,
            "bottom": null,
            "display": null,
            "flex": null,
            "flex_flow": null,
            "grid_area": null,
            "grid_auto_columns": null,
            "grid_auto_flow": null,
            "grid_auto_rows": null,
            "grid_column": null,
            "grid_gap": null,
            "grid_row": null,
            "grid_template_areas": null,
            "grid_template_columns": null,
            "grid_template_rows": null,
            "height": null,
            "justify_content": null,
            "justify_items": null,
            "left": null,
            "margin": null,
            "max_height": null,
            "max_width": null,
            "min_height": null,
            "min_width": null,
            "object_fit": null,
            "object_position": null,
            "order": null,
            "overflow": null,
            "overflow_x": null,
            "overflow_y": null,
            "padding": null,
            "right": null,
            "top": null,
            "visibility": null,
            "width": null
          }
        },
        "6d7fc6cbb8464eb39588ac7f812561f3": {
          "model_module": "@jupyter-widgets/base",
          "model_module_version": "1.2.0",
          "model_name": "LayoutModel",
          "state": {
            "_model_module": "@jupyter-widgets/base",
            "_model_module_version": "1.2.0",
            "_model_name": "LayoutModel",
            "_view_count": null,
            "_view_module": "@jupyter-widgets/base",
            "_view_module_version": "1.2.0",
            "_view_name": "LayoutView",
            "align_content": null,
            "align_items": null,
            "align_self": null,
            "border": null,
            "bottom": null,
            "display": null,
            "flex": null,
            "flex_flow": null,
            "grid_area": null,
            "grid_auto_columns": null,
            "grid_auto_flow": null,
            "grid_auto_rows": null,
            "grid_column": null,
            "grid_gap": null,
            "grid_row": null,
            "grid_template_areas": null,
            "grid_template_columns": null,
            "grid_template_rows": null,
            "height": null,
            "justify_content": null,
            "justify_items": null,
            "left": null,
            "margin": null,
            "max_height": null,
            "max_width": null,
            "min_height": null,
            "min_width": null,
            "object_fit": null,
            "object_position": null,
            "order": null,
            "overflow": null,
            "overflow_x": null,
            "overflow_y": null,
            "padding": null,
            "right": null,
            "top": null,
            "visibility": null,
            "width": null
          }
        },
        "77701a17b3ea4d9a9a679318a0ffc25c": {
          "model_module": "@jupyter-widgets/base",
          "model_module_version": "1.2.0",
          "model_name": "LayoutModel",
          "state": {
            "_model_module": "@jupyter-widgets/base",
            "_model_module_version": "1.2.0",
            "_model_name": "LayoutModel",
            "_view_count": null,
            "_view_module": "@jupyter-widgets/base",
            "_view_module_version": "1.2.0",
            "_view_name": "LayoutView",
            "align_content": null,
            "align_items": null,
            "align_self": null,
            "border": null,
            "bottom": null,
            "display": null,
            "flex": null,
            "flex_flow": null,
            "grid_area": null,
            "grid_auto_columns": null,
            "grid_auto_flow": null,
            "grid_auto_rows": null,
            "grid_column": null,
            "grid_gap": null,
            "grid_row": null,
            "grid_template_areas": null,
            "grid_template_columns": null,
            "grid_template_rows": null,
            "height": null,
            "justify_content": null,
            "justify_items": null,
            "left": null,
            "margin": null,
            "max_height": null,
            "max_width": null,
            "min_height": null,
            "min_width": null,
            "object_fit": null,
            "object_position": null,
            "order": null,
            "overflow": null,
            "overflow_x": null,
            "overflow_y": null,
            "padding": null,
            "right": null,
            "top": null,
            "visibility": null,
            "width": null
          }
        },
        "7f3f1f4c7a644440bd67beb3bb3d8acb": {
          "model_module": "@jupyter-widgets/controls",
          "model_module_version": "1.5.0",
          "model_name": "VBoxModel",
          "state": {
            "_dom_classes": [
              "widget-interact"
            ],
            "_model_module": "@jupyter-widgets/controls",
            "_model_module_version": "1.5.0",
            "_model_name": "VBoxModel",
            "_view_count": null,
            "_view_module": "@jupyter-widgets/controls",
            "_view_module_version": "1.5.0",
            "_view_name": "VBoxView",
            "box_style": "",
            "children": [
              "IPY_MODEL_20be401cbcd04401a47cf2292e10e7be",
              "IPY_MODEL_04808c95caba4f889c88c47af46e50b9",
              "IPY_MODEL_cfb343371e94459e869d9e8e97f110d9"
            ],
            "layout": "IPY_MODEL_eb8bb99095be491aa9bbc2a489299e97"
          }
        },
        "8723e00e0be04a54b75965b1dc056fd5": {
          "model_module": "@jupyter-widgets/controls",
          "model_module_version": "1.5.0",
          "model_name": "SliderStyleModel",
          "state": {
            "_model_module": "@jupyter-widgets/controls",
            "_model_module_version": "1.5.0",
            "_model_name": "SliderStyleModel",
            "_view_count": null,
            "_view_module": "@jupyter-widgets/base",
            "_view_module_version": "1.2.0",
            "_view_name": "StyleView",
            "description_width": "",
            "handle_color": null
          }
        },
        "8984884cd92f4873ae36a524112ddbf8": {
          "model_module": "@jupyter-widgets/base",
          "model_module_version": "1.2.0",
          "model_name": "LayoutModel",
          "state": {
            "_model_module": "@jupyter-widgets/base",
            "_model_module_version": "1.2.0",
            "_model_name": "LayoutModel",
            "_view_count": null,
            "_view_module": "@jupyter-widgets/base",
            "_view_module_version": "1.2.0",
            "_view_name": "LayoutView",
            "align_content": null,
            "align_items": null,
            "align_self": null,
            "border": null,
            "bottom": null,
            "display": null,
            "flex": null,
            "flex_flow": null,
            "grid_area": null,
            "grid_auto_columns": null,
            "grid_auto_flow": null,
            "grid_auto_rows": null,
            "grid_column": null,
            "grid_gap": null,
            "grid_row": null,
            "grid_template_areas": null,
            "grid_template_columns": null,
            "grid_template_rows": null,
            "height": null,
            "justify_content": null,
            "justify_items": null,
            "left": null,
            "margin": null,
            "max_height": null,
            "max_width": null,
            "min_height": null,
            "min_width": null,
            "object_fit": null,
            "object_position": null,
            "order": null,
            "overflow": null,
            "overflow_x": null,
            "overflow_y": null,
            "padding": null,
            "right": null,
            "top": null,
            "visibility": null,
            "width": null
          }
        },
        "8a86469dbea24a58a540c1054a203c30": {
          "model_module": "@jupyter-widgets/controls",
          "model_module_version": "1.5.0",
          "model_name": "SliderStyleModel",
          "state": {
            "_model_module": "@jupyter-widgets/controls",
            "_model_module_version": "1.5.0",
            "_model_name": "SliderStyleModel",
            "_view_count": null,
            "_view_module": "@jupyter-widgets/base",
            "_view_module_version": "1.2.0",
            "_view_name": "StyleView",
            "description_width": "",
            "handle_color": null
          }
        },
        "8a8ee1cb34ec4acea2477931fb748094": {
          "model_module": "@jupyter-widgets/controls",
          "model_module_version": "1.5.0",
          "model_name": "SliderStyleModel",
          "state": {
            "_model_module": "@jupyter-widgets/controls",
            "_model_module_version": "1.5.0",
            "_model_name": "SliderStyleModel",
            "_view_count": null,
            "_view_module": "@jupyter-widgets/base",
            "_view_module_version": "1.2.0",
            "_view_name": "StyleView",
            "description_width": "",
            "handle_color": null
          }
        },
        "9404c71f7c164d04a7b3b1539fe4457a": {
          "model_module": "@jupyter-widgets/base",
          "model_module_version": "1.2.0",
          "model_name": "LayoutModel",
          "state": {
            "_model_module": "@jupyter-widgets/base",
            "_model_module_version": "1.2.0",
            "_model_name": "LayoutModel",
            "_view_count": null,
            "_view_module": "@jupyter-widgets/base",
            "_view_module_version": "1.2.0",
            "_view_name": "LayoutView",
            "align_content": null,
            "align_items": null,
            "align_self": null,
            "border": null,
            "bottom": null,
            "display": null,
            "flex": null,
            "flex_flow": null,
            "grid_area": null,
            "grid_auto_columns": null,
            "grid_auto_flow": null,
            "grid_auto_rows": null,
            "grid_column": null,
            "grid_gap": null,
            "grid_row": null,
            "grid_template_areas": null,
            "grid_template_columns": null,
            "grid_template_rows": null,
            "height": null,
            "justify_content": null,
            "justify_items": null,
            "left": null,
            "margin": null,
            "max_height": null,
            "max_width": null,
            "min_height": null,
            "min_width": null,
            "object_fit": null,
            "object_position": null,
            "order": null,
            "overflow": null,
            "overflow_x": null,
            "overflow_y": null,
            "padding": null,
            "right": null,
            "top": null,
            "visibility": null,
            "width": null
          }
        },
        "9c5e98bbe1924ce1b22ede2d8848141a": {
          "model_module": "@jupyter-widgets/base",
          "model_module_version": "1.2.0",
          "model_name": "LayoutModel",
          "state": {
            "_model_module": "@jupyter-widgets/base",
            "_model_module_version": "1.2.0",
            "_model_name": "LayoutModel",
            "_view_count": null,
            "_view_module": "@jupyter-widgets/base",
            "_view_module_version": "1.2.0",
            "_view_name": "LayoutView",
            "align_content": null,
            "align_items": null,
            "align_self": null,
            "border": null,
            "bottom": null,
            "display": null,
            "flex": null,
            "flex_flow": null,
            "grid_area": null,
            "grid_auto_columns": null,
            "grid_auto_flow": null,
            "grid_auto_rows": null,
            "grid_column": null,
            "grid_gap": null,
            "grid_row": null,
            "grid_template_areas": null,
            "grid_template_columns": null,
            "grid_template_rows": null,
            "height": null,
            "justify_content": null,
            "justify_items": null,
            "left": null,
            "margin": null,
            "max_height": null,
            "max_width": null,
            "min_height": null,
            "min_width": null,
            "object_fit": null,
            "object_position": null,
            "order": null,
            "overflow": null,
            "overflow_x": null,
            "overflow_y": null,
            "padding": null,
            "right": null,
            "top": null,
            "visibility": null,
            "width": null
          }
        },
        "a2b3e31fde7940448fbefbc49db85b59": {
          "model_module": "@jupyter-widgets/base",
          "model_module_version": "1.2.0",
          "model_name": "LayoutModel",
          "state": {
            "_model_module": "@jupyter-widgets/base",
            "_model_module_version": "1.2.0",
            "_model_name": "LayoutModel",
            "_view_count": null,
            "_view_module": "@jupyter-widgets/base",
            "_view_module_version": "1.2.0",
            "_view_name": "LayoutView",
            "align_content": null,
            "align_items": null,
            "align_self": null,
            "border": null,
            "bottom": null,
            "display": null,
            "flex": null,
            "flex_flow": null,
            "grid_area": null,
            "grid_auto_columns": null,
            "grid_auto_flow": null,
            "grid_auto_rows": null,
            "grid_column": null,
            "grid_gap": null,
            "grid_row": null,
            "grid_template_areas": null,
            "grid_template_columns": null,
            "grid_template_rows": null,
            "height": null,
            "justify_content": null,
            "justify_items": null,
            "left": null,
            "margin": null,
            "max_height": null,
            "max_width": null,
            "min_height": null,
            "min_width": null,
            "object_fit": null,
            "object_position": null,
            "order": null,
            "overflow": null,
            "overflow_x": null,
            "overflow_y": null,
            "padding": null,
            "right": null,
            "top": null,
            "visibility": null,
            "width": null
          }
        },
        "a69511f50921460da1aa4ed29de1fe4d": {
          "model_module": "@jupyter-widgets/controls",
          "model_module_version": "1.5.0",
          "model_name": "VBoxModel",
          "state": {
            "_dom_classes": [
              "widget-interact"
            ],
            "_model_module": "@jupyter-widgets/controls",
            "_model_module_version": "1.5.0",
            "_model_name": "VBoxModel",
            "_view_count": null,
            "_view_module": "@jupyter-widgets/controls",
            "_view_module_version": "1.5.0",
            "_view_name": "VBoxView",
            "box_style": "",
            "children": [
              "IPY_MODEL_0474077a7c644c9db62c0744a6ea7367",
              "IPY_MODEL_e59eebd1586d4a7ba01cc2d9a93d7cf5",
              "IPY_MODEL_c6e6a41802a8486096a8b15a6e867fd2",
              "IPY_MODEL_1daaec76e4ce4c568be28006f6f710f7"
            ],
            "layout": "IPY_MODEL_6d7fc6cbb8464eb39588ac7f812561f3"
          }
        },
        "c6e6a41802a8486096a8b15a6e867fd2": {
          "model_module": "@jupyter-widgets/controls",
          "model_module_version": "1.5.0",
          "model_name": "IntSliderModel",
          "state": {
            "_dom_classes": [],
            "_model_module": "@jupyter-widgets/controls",
            "_model_module_version": "1.5.0",
            "_model_name": "IntSliderModel",
            "_view_count": null,
            "_view_module": "@jupyter-widgets/controls",
            "_view_module_version": "1.5.0",
            "_view_name": "IntSliderView",
            "continuous_update": true,
            "description": "theta_i",
            "description_tooltip": null,
            "disabled": false,
            "layout": "IPY_MODEL_77701a17b3ea4d9a9a679318a0ffc25c",
            "max": 100,
            "min": 0,
            "orientation": "horizontal",
            "readout": true,
            "readout_format": "d",
            "step": 1,
            "style": "IPY_MODEL_ddab722022be410e943debec7e9721ed",
            "value": 69
          }
        },
        "cfb343371e94459e869d9e8e97f110d9": {
          "model_module": "@jupyter-widgets/output",
          "model_module_version": "1.0.0",
          "model_name": "OutputModel",
          "state": {
            "_dom_classes": [],
            "_model_module": "@jupyter-widgets/output",
            "_model_module_version": "1.0.0",
            "_model_name": "OutputModel",
            "_view_count": null,
            "_view_module": "@jupyter-widgets/output",
            "_view_module_version": "1.0.0",
            "_view_name": "OutputView",
            "layout": "IPY_MODEL_5d2054f605334e8e92f746dc072569e5",
            "msg_id": "",
            "outputs": [
              {
                "name": "stderr",
                "output_type": "stream",
                "text": [
                  "<ipython-input-4-36b4386a41a3>:22: MatplotlibDeprecationWarning: Passing the angle parameter of __init__() positionally is deprecated since Matplotlib 3.6; the parameter will become keyword-only two minor releases later.\n",
                  "  car = Rectangle(left_corner, car_length, car_width, theta * 180 / jnp.pi, color=color, alpha=alpha)\n"
                ]
              }
            ]
          }
        },
        "ddab722022be410e943debec7e9721ed": {
          "model_module": "@jupyter-widgets/controls",
          "model_module_version": "1.5.0",
          "model_name": "SliderStyleModel",
          "state": {
            "_model_module": "@jupyter-widgets/controls",
            "_model_module_version": "1.5.0",
            "_model_name": "SliderStyleModel",
            "_view_count": null,
            "_view_module": "@jupyter-widgets/base",
            "_view_module_version": "1.2.0",
            "_view_name": "StyleView",
            "description_width": "",
            "handle_color": null
          }
        },
        "e5266eb5c38e45aca290cba8fbc59b6c": {
          "model_module": "@jupyter-widgets/controls",
          "model_module_version": "1.5.0",
          "model_name": "SliderStyleModel",
          "state": {
            "_model_module": "@jupyter-widgets/controls",
            "_model_module_version": "1.5.0",
            "_model_name": "SliderStyleModel",
            "_view_count": null,
            "_view_module": "@jupyter-widgets/base",
            "_view_module_version": "1.2.0",
            "_view_name": "StyleView",
            "description_width": "",
            "handle_color": null
          }
        },
        "e59eebd1586d4a7ba01cc2d9a93d7cf5": {
          "model_module": "@jupyter-widgets/controls",
          "model_module_version": "1.5.0",
          "model_name": "FloatSliderModel",
          "state": {
            "_dom_classes": [],
            "_model_module": "@jupyter-widgets/controls",
            "_model_module_version": "1.5.0",
            "_model_name": "FloatSliderModel",
            "_view_count": null,
            "_view_module": "@jupyter-widgets/controls",
            "_view_module_version": "1.5.0",
            "_view_name": "FloatSliderView",
            "continuous_update": true,
            "description": "y",
            "description_tooltip": null,
            "disabled": false,
            "layout": "IPY_MODEL_4b4ea4db81094d13b926c4ce4575a40f",
            "max": 3,
            "min": -3,
            "orientation": "horizontal",
            "readout": true,
            "readout_format": ".2f",
            "step": 0.1,
            "style": "IPY_MODEL_8a86469dbea24a58a540c1054a203c30",
            "value": 0
          }
        },
        "eb8bb99095be491aa9bbc2a489299e97": {
          "model_module": "@jupyter-widgets/base",
          "model_module_version": "1.2.0",
          "model_name": "LayoutModel",
          "state": {
            "_model_module": "@jupyter-widgets/base",
            "_model_module_version": "1.2.0",
            "_model_name": "LayoutModel",
            "_view_count": null,
            "_view_module": "@jupyter-widgets/base",
            "_view_module_version": "1.2.0",
            "_view_name": "LayoutView",
            "align_content": null,
            "align_items": null,
            "align_self": null,
            "border": null,
            "bottom": null,
            "display": null,
            "flex": null,
            "flex_flow": null,
            "grid_area": null,
            "grid_auto_columns": null,
            "grid_auto_flow": null,
            "grid_auto_rows": null,
            "grid_column": null,
            "grid_gap": null,
            "grid_row": null,
            "grid_template_areas": null,
            "grid_template_columns": null,
            "grid_template_rows": null,
            "height": null,
            "justify_content": null,
            "justify_items": null,
            "left": null,
            "margin": null,
            "max_height": null,
            "max_width": null,
            "min_height": null,
            "min_width": null,
            "object_fit": null,
            "object_position": null,
            "order": null,
            "overflow": null,
            "overflow_x": null,
            "overflow_y": null,
            "padding": null,
            "right": null,
            "top": null,
            "visibility": null,
            "width": null
          }
        },
        "f03de0ff8b7d494e918f9fcdcded4bd4": {
          "model_module": "@jupyter-widgets/output",
          "model_module_version": "1.0.0",
          "model_name": "OutputModel",
          "state": {
            "_dom_classes": [],
            "_model_module": "@jupyter-widgets/output",
            "_model_module_version": "1.0.0",
            "_model_name": "OutputModel",
            "_view_count": null,
            "_view_module": "@jupyter-widgets/output",
            "_view_module_version": "1.0.0",
            "_view_name": "OutputView",
            "layout": "IPY_MODEL_9c5e98bbe1924ce1b22ede2d8848141a",
            "msg_id": "",
            "outputs": [
              {
                "name": "stderr",
                "output_type": "stream",
                "text": [
                  "<ipython-input-4-36b4386a41a3>:22: MatplotlibDeprecationWarning: Passing the angle parameter of __init__() positionally is deprecated since Matplotlib 3.6; the parameter will become keyword-only two minor releases later.\n",
                  "  car = Rectangle(left_corner, car_length, car_width, theta * 180 / jnp.pi, color=color, alpha=alpha)\n"
                ]
              }
            ]
          }
        },
        "f70e3d92a32d469d8917285bec16bea6": {
          "model_module": "@jupyter-widgets/base",
          "model_module_version": "1.2.0",
          "model_name": "LayoutModel",
          "state": {
            "_model_module": "@jupyter-widgets/base",
            "_model_module_version": "1.2.0",
            "_model_name": "LayoutModel",
            "_view_count": null,
            "_view_module": "@jupyter-widgets/base",
            "_view_module_version": "1.2.0",
            "_view_name": "LayoutView",
            "align_content": null,
            "align_items": null,
            "align_self": null,
            "border": null,
            "bottom": null,
            "display": null,
            "flex": null,
            "flex_flow": null,
            "grid_area": null,
            "grid_auto_columns": null,
            "grid_auto_flow": null,
            "grid_auto_rows": null,
            "grid_column": null,
            "grid_gap": null,
            "grid_row": null,
            "grid_template_areas": null,
            "grid_template_columns": null,
            "grid_template_rows": null,
            "height": null,
            "justify_content": null,
            "justify_items": null,
            "left": null,
            "margin": null,
            "max_height": null,
            "max_width": null,
            "min_height": null,
            "min_width": null,
            "object_fit": null,
            "object_position": null,
            "order": null,
            "overflow": null,
            "overflow_x": null,
            "overflow_y": null,
            "padding": null,
            "right": null,
            "top": null,
            "visibility": null,
            "width": null
          }
        },
        "f92f4e8987534693b846049e277ee77a": {
          "model_module": "@jupyter-widgets/base",
          "model_module_version": "1.2.0",
          "model_name": "LayoutModel",
          "state": {
            "_model_module": "@jupyter-widgets/base",
            "_model_module_version": "1.2.0",
            "_model_name": "LayoutModel",
            "_view_count": null,
            "_view_module": "@jupyter-widgets/base",
            "_view_module_version": "1.2.0",
            "_view_name": "LayoutView",
            "align_content": null,
            "align_items": null,
            "align_self": null,
            "border": null,
            "bottom": null,
            "display": null,
            "flex": null,
            "flex_flow": null,
            "grid_area": null,
            "grid_auto_columns": null,
            "grid_auto_flow": null,
            "grid_auto_rows": null,
            "grid_column": null,
            "grid_gap": null,
            "grid_row": null,
            "grid_template_areas": null,
            "grid_template_columns": null,
            "grid_template_rows": null,
            "height": null,
            "justify_content": null,
            "justify_items": null,
            "left": null,
            "margin": null,
            "max_height": null,
            "max_width": null,
            "min_height": null,
            "min_width": null,
            "object_fit": null,
            "object_position": null,
            "order": null,
            "overflow": null,
            "overflow_x": null,
            "overflow_y": null,
            "padding": null,
            "right": null,
            "top": null,
            "visibility": null,
            "width": null
          }
        }
      }
    }
  },
  "nbformat": 4,
  "nbformat_minor": 0
}